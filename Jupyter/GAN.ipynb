{
 "cells": [
  {
   "cell_type": "code",
   "execution_count": 1,
   "outputs": [
    {
     "name": "stderr",
     "text": [
      "Using TensorFlow backend.\n"
     ],
     "output_type": "stream"
    }
   ],
   "source": [
    "# Import necessary packages\n",
    "import os\n",
    "import tensorflow as tf\n",
    "\n",
    "# Import necessary files/functions\n",
    "from VisualizingData.VisualizeData import init_metadata, read_metadata, visualize_metadata, \\\n",
    "    visualize_vectorized_features\n",
    "from LoadingData.LoadData import init_vectorized_features, read_test_train, load_dataset, load_to_dataframe, \\\n",
    "    malicious_examples, benign_examples, single_malicious_example, single_benign_example\n",
    "from Models.Generator import init_generator, generate_example\n",
    "from Models.Discriminator import init_discriminator, discriminate_examples\n",
    "from Models.Detector import generator_optimizer, discriminator_optimizer, generator_loss, discriminator_loss\n",
    "from Training.TrainGAN import train_step, train\n",
    "from GAN import GAN"
   ],
   "metadata": {
    "collapsed": false,
    "pycharm": {
     "name": "#%%\n",
     "is_executing": false
    }
   }
  },
  {
   "cell_type": "code",
   "execution_count": 2,
   "outputs": [],
   "source": [
    "# Declaring a variable for the path to the Ember dataset\n",
    "dataset_dir = \"E:/QMIND/DataSet/ember\""
   ],
   "metadata": {
    "collapsed": false,
    "pycharm": {
     "name": "#%%\n",
     "is_executing": false
    }
   }
  },
  {
   "cell_type": "code",
   "execution_count": 3,
   "outputs": [
    {
     "name": "stdout",
     "text": [
      "Metadata has been read\n                                                    sha256 appeared subset  \\\n0        0abb4fda7d5b13801d63bee53e5e256be43e141faa077a...  2006-12  train   \n1        d4206650743b3d519106dea10a38a55c30467c3d9f7875...  2006-12  train   \n2        c9cafff8a596ba8a80bafb4ba8ae6f2ef3329d95b85f15...  2007-01  train   \n3        7f513818bcc276c531af2e641c597744da807e21cc1160...  2007-02  train   \n4        ca65e1c387a4cc9e7d8a8ce12bf1bcf9f534c9032b9d95...  2007-02  train   \n...                                                    ...      ...    ...   \n1099995  fffe314f23cee3a68ccab272934877d3bc18ec3bd905df...  2017-12   test   \n1099996  fffe7a1b23e04facc9ca91a93ac4a34e8b3040e023dbde...  2017-12   test   \n1099997  fffe801f51e7ec931515aa49a3d157a9c0fbcdca8c9d80...  2017-12   test   \n1099998  fffe92f9593649c4a7050302368189de45e2c1c06b04ea...  2017-12   test   \n1099999  ffffb259a4c5e25ae1437af59caafb718cf8879187cc8c...  2017-12   test   \n\n         label  \n0            0  \n1            0  \n2            0  \n3            0  \n4            0  \n...        ...  \n1099995      0  \n1099996      1  \n1099997      0  \n1099998      1  \n1099999      1  \n\n[1100000 rows x 4 columns]\n"
     ],
     "output_type": "stream"
    }
   ],
   "source": [
    "# Check that metadata.csv is in the desired directory and initialize it if not\n",
    "dataset_dir_files = os.listdir(dataset_dir)\n",
    "if 'metadata.csv' not in dataset_dir_files:\n",
    "    init_metadata(dataset_dir)\n",
    "# read the data from metadata.csv file and display the contents \n",
    "metadata = read_metadata(dataset_dir)\n",
    "print(metadata)"
   ],
   "metadata": {
    "collapsed": false,
    "pycharm": {
     "name": "#%%\n",
     "is_executing": false
    }
   }
  },
  {
   "cell_type": "code",
   "execution_count": 4,
   "outputs": [
    {
     "name": "stdout",
     "text": [
      "Metadata\nNumber of Malicious Files: 19989\nNumber of Benign Files: 20008\nNumber of Unlabeled Files: 15003\n\nMalicious File Ratio: 0.3634363636363636\nBenign File Ratio: 0.3637818181818182\nUnlabeled File Ratio: 0.2727818181818182\n\n"
     ],
     "output_type": "stream"
    },
    {
     "data": {
      "text/plain": "<Figure size 432x288 with 1 Axes>",
      "image/png": "[encoded data removed]"
     },
     "metadata": {
      "needs_background": "light"
     },
     "output_type": "display_data"
    }
   ],
   "source": [
    "visualize_metadata(metadata)"
   ],
   "metadata": {
    "collapsed": false,
    "pycharm": {
     "name": "#%%\n",
     "is_executing": false
    }
   }
  },
  {
   "cell_type": "code",
   "execution_count": 5,
   "outputs": [
    {
     "name": "stdout",
     "text": [
      "WARNING: EMBER feature version 2 requires lief version 0.9.0-\nWARNING:   lief version 0.10.1-bfe5414 found instead. There may be slight inconsistencies\nWARNING:   in the feature calculations.\nVectorized training features have been read\nWARNING: EMBER feature version 2 requires lief version 0.9.0-\nWARNING:   lief version 0.10.1-bfe5414 found instead. There may be slight inconsistencies\nWARNING:   in the feature calculations.\nVectorized test features has been read\nConverting X_train from np.memmap to tf.tensor\nShape of X_train tensor is (900000, 2381)\nX_train conversion complete\nConverting X_test from np.memmap to tf.tensor\nShape of X_test tensor is (200000, 2381)\nX_test conversion complete\nLoading tf.tensor data into pd.DataFrame\n",
      "Training data has been loaded into pd.DataFrame\n",
      "Testing data has been loaded into pd.DataFrame\n"
     ],
     "output_type": "stream"
    }
   ],
   "source": [
    "# Loading the dataset into a dataframe for convenience\n",
    "dataframe = load_to_dataframe(dataset_dir)"
   ],
   "metadata": {
    "collapsed": false,
    "pycharm": {
     "name": "#%%\n",
     "is_executing": false
    }
   }
  },
  {
   "cell_type": "code",
   "execution_count": 6,
   "outputs": [],
   "source": [
    "# Declaring hyperparameters for Epoch and the floor value for Batch Size\n",
    "EPOCH = 25\n",
    "BATCH_SIZE_FLOOR = 391"
   ],
   "metadata": {
    "collapsed": false,
    "pycharm": {
     "name": "#%% \n",
     "is_executing": false
    }
   }
  },
  {
   "cell_type": "code",
   "execution_count": 7,
   "outputs": [
    {
     "name": "stdout",
     "text": [
      "WARNING: EMBER feature version 2 requires lief version 0.9.0-\nWARNING:   lief version 0.10.1-bfe5414 found instead. There may be slight inconsistencies\nWARNING:   in the feature calculations.\nVectorized training features have been read\nWARNING: EMBER feature version 2 requires lief version 0.9.0-\nWARNING:   lief version 0.10.1-bfe5414 found instead. There may be slight inconsistencies\nWARNING:   in the feature calculations.\nVectorized test features has been read\nDividing dataset into malicious and benign labeled examples\n",
      "Converting data from np.memmap to tf.tensor\n",
      "Epoch 1/25\nTraining Step 1/12\n",
      "Malicious Features: [[0. 0. 0. ... 0. 0. 0.]]\nAdversarial Features: [[ 1.  1. -1. ...  1.  1.  1.]]\nPrediction: [[1.]]\n\nTraining Step 2/12\n",
      "Malicious Features: [[0. 0. 1. ... 0. 0. 0.]]\nAdversarial Features: [[ 1. -1. -1. ...  1. -1. -1.]]\nPrediction: [[1.]]\n\nTraining Step 3/12\n",
      "Malicious Features: [[8.5986634e-05 1.3512185e-04 1.0748329e-04 ... 0.0000000e+00\n  0.0000000e+00 0.0000000e+00]]\nAdversarial Features: [[ 1.  1.  1. ...  1. -1.  1.]]\nPrediction: [[1.]]\n\nTraining Step 4/12\n",
      "Malicious Features: [[0. 0. 0. ... 0. 0. 0.]]\nAdversarial Features: [[ 1.  1.  1. ...  1. -1.  1.]]\nPrediction: [[1.]]\n\nTraining Step 5/12\n",
      "Malicious Features: [[0. 0. 0. ... 0. 0. 0.]]\nAdversarial Features: [[ 1.  1. -1. ...  1.  1. -1.]]\nPrediction: [[1.]]\n\nTraining Step 6/12\n",
      "Malicious Features: [[0. 0. 0. ... 0. 0. 0.]]\nAdversarial Features: [[ 1.  1. -1. ...  1.  1. -1.]]\nPrediction: [[1.]]\n\nTraining Step 7/12\n",
      "Malicious Features: [[0. 0. 0. ... 0. 0. 0.]]\nAdversarial Features: [[ 1. -1.  1. ...  1.  1. -1.]]\nPrediction: [[1.]]\n\nTraining Step 8/12\n",
      "Malicious Features: [[0. 0. 0. ... 0. 0. 0.]]\nAdversarial Features: [[ 1.  1. -1. ...  1. -1.  1.]]\nPrediction: [[1.]]\n\nTraining Step 9/12\n",
      "Malicious Features: [[0. 0. 0. ... 0. 0. 0.]]\nAdversarial Features: [[ 1. -1. -1. ... -1.  1. -1.]]\nPrediction: [[1.]]\n\nTraining Step 10/12\n",
      "Malicious Features: [[0.00163727 0.0033938  0.00194184 ... 0.00069387 0.00109221 0.0033821 ]]\nAdversarial Features: [[ 1. -1. -1. ...  1.  1.  1.]]\nPrediction: [[1.]]\n\nTraining Step 11/12\n",
      "Malicious Features: [[-1.  0.  0. ...  0.  0.  0.]]\nAdversarial Features: [[ 1. -1. -1. ...  1.  1. -1.]]\nPrediction: [[1.]]\n\nTraining Step 12/12\n",
      "Malicious Features: [[ 0.  0. -2. ...  0.  0.  0.]]\nAdversarial Features: [[ 1.  1. -1. ...  1. -1. -1.]]\nPrediction: [[1.]]\n\nTime for Epoch 1 is 40.103713274002075 seconds\nEpoch 2/25\nTraining Step 1/12\n",
      "Malicious Features: [[0. 0. 0. ... 0. 0. 0.]]\nAdversarial Features: [[ 1. -1. -1. ...  1.  1. -1.]]\nPrediction: [[1.]]\n\nTraining Step 2/12\n",
      "Malicious Features: [[0.         0.         0.         ... 0.01231554 0.06666395 0.03815375]]\nAdversarial Features: [[ 1.  1. -1. ...  1. -1.  1.]]\nPrediction: [[1.]]\n\nTraining Step 3/12\n",
      "Malicious Features: [[ 0.  0.  0. ...  0. -1.  1.]]\nAdversarial Features: [[ 1.  1.  1. ...  1.  1. -1.]]\nPrediction: [[1.]]\n\nTraining Step 4/12\n",
      "Malicious Features: [[0. 0. 0. ... 0. 0. 0.]]\nAdversarial Features: [[ 1.  1.  1. ...  1.  1. -1.]]\nPrediction: [[1.]]\n\nTraining Step 5/12\n",
      "Malicious Features: [[0. 0. 0. ... 0. 1. 1.]]\nAdversarial Features: [[ 1.  1. -1. ...  1. -1. -1.]]\nPrediction: [[1.]]\n\nTraining Step 6/12\n",
      "Malicious Features: [[0. 0. 0. ... 0. 0. 0.]]\nAdversarial Features: [[ 1. -1. -1. ...  1. -1.  1.]]\nPrediction: [[1.]]\n\nTraining Step 7/12\n",
      "Malicious Features: [[0. 0. 0. ... 0. 0. 0.]]\nAdversarial Features: [[ 1.  1.  1. ...  1. -1.  1.]]\nPrediction: [[1.]]\n\nTraining Step 8/12\n",
      "Malicious Features: [[ 0. -1.  0. ...  0.  0.  0.]]\nAdversarial Features: [[-1. -1. -1. ...  1. -1.  1.]]\nPrediction: [[1.]]\n\nTraining Step 9/12\n",
      "Malicious Features: [[0.00016622 0.00091423 0.00012467 ... 0.00183949 0.0027489  0.00148813]]\nAdversarial Features: [[ 1.  1. -1. ...  1. -1.  1.]]\nPrediction: [[1.]]\n\nTraining Step 10/12\n",
      "Malicious Features: [[0. 0. 0. ... 0. 0. 0.]]\nAdversarial Features: [[ 1.  1.  1. ...  1. -1. -1.]]\nPrediction: [[1.]]\n\nTraining Step 11/12\n",
      "Malicious Features: [[0. 0. 0. ... 0. 0. 0.]]\nAdversarial Features: [[ 1.  1. -1. ... -1.  1. -1.]]\nPrediction: [[1.]]\n\nTraining Step 12/12\n",
      "Malicious Features: [[ 0.  0. -1. ...  0.  0.  0.]]\nAdversarial Features: [[ 1. -1.  1. ... -1.  1.  1.]]\nPrediction: [[1.]]\n\nTime for Epoch 2 is 6.222838878631592 seconds\nEpoch 3/25\nTraining Step 1/12\n",
      "Malicious Features: [[0. 0. 0. ... 0. 0. 0.]]\nAdversarial Features: [[1. 1. 1. ... 1. 1. 1.]]\nPrediction: [[1.]]\n\nTraining Step 2/12\n",
      "Malicious Features: [[0. 0. 0. ... 0. 0. 0.]]\nAdversarial Features: [[-1. -1. -1. ...  1.  1. -1.]]\nPrediction: [[1.]]\n\nTraining Step 3/12\n",
      "Malicious Features: [[0. 0. 0. ... 0. 0. 0.]]\nAdversarial Features: [[ 1. -1. -1. ...  1. -1. -1.]]\nPrediction: [[1.]]\n\nTraining Step 4/12\n",
      "Malicious Features: [[0. 0. 0. ... 0. 0. 1.]]\nAdversarial Features: [[ 1.  1. -1. ...  1. -1. -1.]]\nPrediction: [[1.]]\n\nTraining Step 5/12\n",
      "Malicious Features: [[0.00475524 0.00797203 0.00769231 ... 0.00727099 0.02117621 0.0298359 ]]\nAdversarial Features: [[ 1.  1.  1. ...  1. -1. -1.]]\nPrediction: [[1.]]\n\nTraining Step 6/12\n",
      "Malicious Features: [[0.02514867 0.00745893 0.02227598 ... 0.         0.         0.        ]]\nAdversarial Features: [[ 1.  1. -1. ...  1.  1. -1.]]\nPrediction: [[1.]]\n\nTraining Step 7/12\n",
      "Malicious Features: [[0. 0. 0. ... 0. 0. 0.]]\nAdversarial Features: [[ 1. -1. -1. ...  1. -1.  1.]]\nPrediction: [[1.]]\n\nTraining Step 8/12\n",
      "Malicious Features: [[0. 0. 0. ... 0. 0. 0.]]\nAdversarial Features: [[-1. -1. -1. ...  1.  1.  1.]]\nPrediction: [[1.]]\n\nTraining Step 9/12\n",
      "Malicious Features: [[0. 0. 0. ... 0. 0. 0.]]\nAdversarial Features: [[ 1. -1.  1. ... -1. -1. -1.]]\nPrediction: [[1.]]\n\nTraining Step 10/12\n",
      "Malicious Features: [[0. 0. 0. ... 1. 0. 0.]]\nAdversarial Features: [[ 1. -1. -1. ... -1.  1.  1.]]\nPrediction: [[1.]]\n\nTraining Step 11/12\n",
      "Malicious Features: [[0. 0. 0. ... 0. 0. 0.]]\nAdversarial Features: [[ 1.  1. -1. ...  1.  1. -1.]]\nPrediction: [[1.]]\n\nTraining Step 12/12\n",
      "Malicious Features: [[0. 0. 0. ... 0. 0. 0.]]\nAdversarial Features: [[ 1. -1.  1. ...  1. -1. -1.]]\nPrediction: [[1.]]\n\nTime for Epoch 3 is 5.732255697250366 seconds\nEpoch 4/25\nTraining Step 1/12\n",
      "Malicious Features: [[0.02617875 0.05883181 0.01006334 ... 0.00945966 6.4101057  0.        ]]\nAdversarial Features: [[ 1. -1. -1. ...  1. -1. -1.]]\nPrediction: [[1.]]\n\nTraining Step 2/12\n",
      "Malicious Features: [[0. 0. 0. ... 0. 0. 0.]]\nAdversarial Features: [[ 1.  1. -1. ...  1. -1.  1.]]\nPrediction: [[1.]]\n\nTraining Step 3/12\n",
      "Malicious Features: [[ 0. -1.  0. ...  0.  0.  0.]]\nAdversarial Features: [[ 1.  1. -1. ...  1. -1. -1.]]\nPrediction: [[1.]]\n\nTraining Step 4/12\n",
      "Malicious Features: [[0. 0. 0. ... 0. 0. 0.]]\nAdversarial Features: [[-1.  1. -1. ...  1.  1. -1.]]\nPrediction: [[1.]]\n\nTraining Step 5/12\n",
      "Malicious Features: [[2.3915817e-04 1.7936862e-04 5.7796555e-05 ... 0.0000000e+00\n  0.0000000e+00 0.0000000e+00]]\nAdversarial Features: [[ 1.  1. -1. ...  1. -1. -1.]]\nPrediction: [[1.]]\n\nTraining Step 6/12\n",
      "Malicious Features: [[0. 0. 0. ... 0. 0. 0.]]\nAdversarial Features: [[ 1.  1. -1. ...  1. -1.  1.]]\nPrediction: [[1.]]\n\nTraining Step 7/12\n",
      "Malicious Features: [[0. 0. 0. ... 0. 1. 0.]]\nAdversarial Features: [[ 1.  1. -1. ...  1. -1. -1.]]\nPrediction: [[1.]]\n\nTraining Step 8/12\n",
      "Malicious Features: [[0. 0. 0. ... 0. 0. 0.]]\nAdversarial Features: [[ 1. -1. -1. ... -1.  1. -1.]]\nPrediction: [[1.]]\n\nTraining Step 9/12\n",
      "Malicious Features: [[0. 0. 1. ... 0. 0. 0.]]\nAdversarial Features: [[-1.  1.  1. ...  1. -1. -1.]]\nPrediction: [[1.]]\n\nTraining Step 10/12\n",
      "Malicious Features: [[5.4643783e-06 8.1965682e-06 7.8062549e-06 ... 0.0000000e+00\n  0.0000000e+00 0.0000000e+00]]\nAdversarial Features: [[ 1.  1. -1. ...  1. -1.  1.]]\nPrediction: [[1.]]\n\nTraining Step 11/12\n",
      "Malicious Features: [[0. 0. 0. ... 0. 0. 0.]]\nAdversarial Features: [[ 1. -1. -1. ...  1.  1.  1.]]\nPrediction: [[1.]]\n\nTraining Step 12/12\n",
      "Malicious Features: [[0. 0. 0. ... 0. 0. 0.]]\nAdversarial Features: [[ 1.  1.  1. ... -1.  1. -1.]]\nPrediction: [[1.]]\n\nTime for Epoch 4 is 6.014896869659424 seconds\nEpoch 5/25\nTraining Step 1/12\n",
      "Malicious Features: [[0. 0. 0. ... 0. 0. 1.]]\nAdversarial Features: [[ 1. -1. -1. ...  1.  1. -1.]]\nPrediction: [[1.]]\n\nTraining Step 2/12\n",
      "Malicious Features: [[0.         0.         0.25576758 ... 0.00063109 0.00512685 0.00206439]]\nAdversarial Features: [[ 1.  1.  1. ... -1.  1. -1.]]\nPrediction: [[1.]]\n\nTraining Step 3/12\n",
      "Malicious Features: [[0. 0. 0. ... 0. 0. 0.]]\nAdversarial Features: [[ 1. -1.  1. ... -1. -1. -1.]]\nPrediction: [[1.]]\n\nTraining Step 4/12\n",
      "Malicious Features: [[ 0. -1.  0. ...  0.  0.  0.]]\nAdversarial Features: [[ 1. -1.  1. ...  1.  1.  1.]]\nPrediction: [[1.]]\n\nTraining Step 5/12\n",
      "Malicious Features: [[0. 0. 1. ... 0. 0. 0.]]\nAdversarial Features: [[ 1.  1. -1. ...  1.  1. -1.]]\nPrediction: [[1.]]\n\nTraining Step 6/12\n",
      "Malicious Features: [[0. 0. 0. ... 0. 0. 0.]]\nAdversarial Features: [[ 1.  1.  1. ... -1.  1. -1.]]\nPrediction: [[1.]]\n\nTraining Step 7/12\n",
      "Malicious Features: [[0. 0. 0. ... 0. 0. 0.]]\nAdversarial Features: [[-1.  1. -1. ... -1.  1.  1.]]\nPrediction: [[1.]]\n\nTraining Step 8/12\n",
      "Malicious Features: [[0.00374658 0.00420782 0.00400063 ... 0.00380564 0.0035882  0.00361991]]\nAdversarial Features: [[ 1.  1.  1. ... -1.  1. -1.]]\nPrediction: [[1.]]\n\nTraining Step 9/12\n",
      "Malicious Features: [[0. 0. 0. ... 0. 0. 0.]]\nAdversarial Features: [[-1. -1.  1. ...  1.  1. -1.]]\nPrediction: [[1.]]\n\nTraining Step 10/12\n",
      "Malicious Features: [[     0.      0.      0. ... 831488.      0.      0.]]\nAdversarial Features: [[ 1. -1. -1. ...  1. -1. -1.]]\nPrediction: [[1.]]\n\nTraining Step 11/12\n",
      "Malicious Features: [[0.00148394 0.00138631 0.00147418 ... 0.00389095 0.00398001 0.0038403 ]]\nAdversarial Features: [[ 1.  1. -1. ...  1. -1.  1.]]\nPrediction: [[1.]]\n\nTraining Step 12/12\n",
      "Malicious Features: [[0.078125   0.00869083 0.00878328 ... 6.540742   0.         0.        ]]\nAdversarial Features: [[ 1. -1. -1. ...  1. -1. -1.]]\nPrediction: [[1.]]\n\nTime for Epoch 5 is 5.725681781768799 seconds\nEpoch 6/25\nTraining Step 1/12\n",
      "Malicious Features: [[0.         0.         0.         ... 0.00094859 0.00040205 0.00168276]]\nAdversarial Features: [[-1.  1.  1. ...  1. -1.  1.]]\nPrediction: [[1.]]\n\nTraining Step 2/12\n",
      "Malicious Features: [[4.3596541e-05 1.5694755e-05 5.2897136e-05 ... 0.0000000e+00\n  0.0000000e+00 0.0000000e+00]]\nAdversarial Features: [[ 1.  1.  1. ...  1. -1.  1.]]\nPrediction: [[1.]]\n\nTraining Step 3/12\n",
      "Malicious Features: [[0.00337759 0.00154321 0.00195085 ... 0.00411332 0.00375455 0.00400044]]\nAdversarial Features: [[ 1.  1.  1. ...  1.  1. -1.]]\nPrediction: [[1.]]\n\nTraining Step 4/12\n",
      "Malicious Features: [[0. 0. 0. ... 0. 0. 0.]]\nAdversarial Features: [[ 1. -1. -1. ...  1. -1.  1.]]\nPrediction: [[1.]]\n\nTraining Step 5/12\n",
      "Malicious Features: [[2.76360544e-04 1.22236394e-04 1.54788475e-04 ... 1.17741576e-04\n  4.15558497e-05 3.01279913e-04]]\nAdversarial Features: [[ 1. -1. -1. ...  1.  1. -1.]]\nPrediction: [[1.]]\n\nTraining Step 6/12\n",
      "Malicious Features: [[0.00739404 0.00064031 0.00133361 ... 0.00221502 0.00840399 0.00225608]]\nAdversarial Features: [[ 1. -1.  1. ...  1.  1.  1.]]\nPrediction: [[1.]]\n\nTraining Step 7/12\n",
      "Malicious Features: [[0.0000000e+00 0.0000000e+00 0.0000000e+00 ... 0.0000000e+00\n  6.8772006e-06 6.1894803e-05]]\nAdversarial Features: [[-1. -1. -1. ...  1.  1.  1.]]\nPrediction: [[1.]]\n\nTraining Step 8/12\n",
      "Malicious Features: [[0. 0. 0. ... 0. 0. 0.]]\nAdversarial Features: [[-1.  1. -1. ... -1. -1. -1.]]\nPrediction: [[1.]]\n\nTraining Step 9/12\n",
      "Malicious Features: [[0. 0. 0. ... 0. 0. 0.]]\nAdversarial Features: [[-1.  1.  1. ...  1. -1. -1.]]\nPrediction: [[1.]]\n\nTraining Step 10/12\n",
      "Malicious Features: [[0.0002104  0.01342178 0.00159585 ... 0.0001863  0.00058168 0.00042867]]\nAdversarial Features: [[-1. -1. -1. ... -1. -1.  1.]]\nPrediction: [[1.]]\n\nTraining Step 11/12\n",
      "Malicious Features: [[0. 0. 0. ... 0. 0. 0.]]\nAdversarial Features: [[-1.  1.  1. ...  1.  1. -1.]]\nPrediction: [[1.]]\n\nTraining Step 12/12\n",
      "Malicious Features: [[0.0034859  0.00367551 0.00300458 ... 0.00048967 0.00044993 0.00026153]]\nAdversarial Features: [[ 1.  1.  1. ...  1. -1.  1.]]\nPrediction: [[1.]]\n\nTime for Epoch 6 is 5.254882574081421 seconds\nEpoch 7/25\nTraining Step 1/12\n",
      "Malicious Features: [[0. 0. 0. ... 0. 0. 0.]]\nAdversarial Features: [[ 1.  1.  1. ...  1. -1. -1.]]\nPrediction: [[1.]]\n\nTraining Step 2/12\n",
      "Malicious Features: [[0. 0. 0. ... 0. 0. 0.]]\nAdversarial Features: [[ 1. -1. -1. ...  1. -1.  1.]]\nPrediction: [[1.]]\n\nTraining Step 3/12\n",
      "Malicious Features: [[0. 0. 0. ... 0. 0. 0.]]\nAdversarial Features: [[ 1.  1. -1. ...  1. -1. -1.]]\nPrediction: [[1.]]\n\nTraining Step 4/12\n",
      "Malicious Features: [[0.00192057 0.00169271 0.0016276  ... 0.01466412 0.00683996 0.00793339]]\nAdversarial Features: [[-1. -1. -1. ... -1.  1. -1.]]\nPrediction: [[1.]]\n\nTraining Step 5/12\n",
      "Malicious Features: [[0. 0. 0. ... 0. 0. 0.]]\nAdversarial Features: [[ 1. -1.  1. ... -1.  1. -1.]]\nPrediction: [[1.]]\n\nTraining Step 6/12\n",
      "Malicious Features: [[0. 0. 0. ... 0. 0. 0.]]\nAdversarial Features: [[ 1. -1.  1. ...  1. -1.  1.]]\nPrediction: [[1.]]\n\nTraining Step 7/12\n",
      "Malicious Features: [[0.         0.         0.         ... 0.0038365  0.00378999 0.00381324]]\nAdversarial Features: [[ 1.  1.  1. ...  1. -1. -1.]]\nPrediction: [[1.]]\n\nTraining Step 8/12\n",
      "Malicious Features: [[0. 0. 0. ... 0. 0. 0.]]\nAdversarial Features: [[ 1.  1. -1. ... -1.  1. -1.]]\nPrediction: [[1.]]\n\nTraining Step 9/12\n",
      "Malicious Features: [[0. 0. 0. ... 0. 0. 0.]]\nAdversarial Features: [[ 1.  1.  1. ...  1.  1. -1.]]\nPrediction: [[1.]]\n\nTraining Step 10/12\n",
      "Malicious Features: [[0. 0. 0. ... 0. 0. 0.]]\nAdversarial Features: [[ 1.  1. -1. ... -1. -1.  1.]]\nPrediction: [[1.]]\n\nTraining Step 11/12\n",
      "Malicious Features: [[0.00144345 0.02152567 0.00081749 ... 0.00036873 0.00023386 0.00024747]]\nAdversarial Features: [[-1.  1.  1. ... -1.  1.  1.]]\nPrediction: [[1.]]\n\nTraining Step 12/12\n",
      "Malicious Features: [[0. 0. 0. ... 0. 0. 0.]]\nAdversarial Features: [[ 1. -1. -1. ...  1. -1. -1.]]\nPrediction: [[1.]]\n\nTime for Epoch 7 is 5.84658145904541 seconds\nEpoch 8/25\nTraining Step 1/12\n",
      "Malicious Features: [[0. 0. 0. ... 0. 0. 0.]]\nAdversarial Features: [[-1. -1.  1. ... -1.  1. -1.]]\nPrediction: [[1.]]\n\nTraining Step 2/12\n",
      "Malicious Features: [[0. 0. 0. ... 0. 0. 0.]]\nAdversarial Features: [[ 1. -1.  1. ...  1. -1. -1.]]\nPrediction: [[1.]]\n\nTraining Step 3/12\n",
      "Malicious Features: [[0.00379445 0.00390058 0.00396133 ... 0.00338503 0.0034824  0.00333921]]\nAdversarial Features: [[ 1. -1. -1. ...  1. -1.  1.]]\nPrediction: [[1.]]\n\nTraining Step 4/12\n",
      "Malicious Features: [[0.00820312 0.00166016 0.03144531 ... 0.00341194 0.00372139 0.00331147]]\nAdversarial Features: [[ 1.  1. -1. ...  1.  1.  1.]]\nPrediction: [[1.]]\n\nTraining Step 5/12\n",
      "Malicious Features: [[ 0.  0.  0. ...  0. -1.  0.]]\nAdversarial Features: [[ 1.  1. -1. ...  1.  1. -1.]]\nPrediction: [[1.]]\n\nTraining Step 6/12\n",
      "Malicious Features: [[0. 0. 0. ... 0. 0. 0.]]\nAdversarial Features: [[ 1. -1.  1. ... -1.  1.  1.]]\nPrediction: [[1.]]\n\nTraining Step 7/12\n",
      "Malicious Features: [[0.02483724 0.00328414 0.00410639 ... 0.01091323 0.0003187  0.00556553]]\nAdversarial Features: [[ 1. -1.  1. ...  1. -1. -1.]]\nPrediction: [[1.]]\n\nTraining Step 8/12\n",
      "Malicious Features: [[0. 0. 0. ... 0. 0. 0.]]\nAdversarial Features: [[ 1. -1. -1. ...  1. -1.  1.]]\nPrediction: [[1.]]\n\nTraining Step 9/12\n",
      "Malicious Features: [[     0. 113664.      0. ...      0.      0.      0.]]\nAdversarial Features: [[ 1.  1.  1. ... -1. -1. -1.]]\nPrediction: [[1.]]\n\nTraining Step 10/12\n",
      "Malicious Features: [[0.00549487 0.0050258  0.00790726 ... 0.01072715 0.00944372 0.01068884]]\nAdversarial Features: [[ 1.  1.  1. ...  1. -1. -1.]]\nPrediction: [[1.]]\n\nTraining Step 11/12\n",
      "Malicious Features: [[1.3352850e-05 2.1653270e-06 9.3830840e-06 ... 1.9221520e-04\n  8.0924721e-05 2.8141457e-04]]\nAdversarial Features: [[ 1. -1. -1. ...  1.  1. -1.]]\nPrediction: [[1.]]\n\nTraining Step 12/12\n",
      "Malicious Features: [[0.00328183 0.00394016 0.00499419 ... 0.00157776 0.00221558 0.00161438]]\nAdversarial Features: [[ 1.  1. -1. ... -1. -1.  1.]]\nPrediction: [[1.]]\n\nTime for Epoch 8 is 5.508930444717407 seconds\nEpoch 9/25\nTraining Step 1/12\n",
      "Malicious Features: [[0. 0. 0. ... 0. 0. 0.]]\nAdversarial Features: [[ 1.  1.  1. ...  1.  1. -1.]]\nPrediction: [[1.]]\n\nTraining Step 2/12\n",
      "Malicious Features: [[0.00044178 0.00033947 0.00066499 ... 0.00500429 0.00484188 0.00217225]]\nAdversarial Features: [[ 1.  1. -1. ...  1.  1.  1.]]\nPrediction: [[1.]]\n\nTraining Step 3/12\n",
      "Malicious Features: [[0.00277231 0.00208891 0.00204609 ... 0.00538315 0.0082182  0.0047769 ]]\nAdversarial Features: [[ 1. -1. -1. ... -1. -1. -1.]]\nPrediction: [[1.]]\n\nTraining Step 4/12\n",
      "Malicious Features: [[0. 0. 0. ... 0. 0. 0.]]\nAdversarial Features: [[ 1. -1. -1. ...  1.  1. -1.]]\nPrediction: [[1.]]\n\nTraining Step 5/12\n",
      "Malicious Features: [[0. 0. 0. ... 0. 0. 0.]]\nAdversarial Features: [[ 1. -1.  1. ...  1. -1.  1.]]\nPrediction: [[1.]]\n\nTraining Step 6/12\n",
      "Malicious Features: [[  0. 100.   0. ...   0.   0.   0.]]\nAdversarial Features: [[ 1.  1. -1. ...  1. -1. -1.]]\nPrediction: [[1.]]\n\nTraining Step 7/12\n",
      "Malicious Features: [[0.00295101 0.00297739 0.00590202 ... 0.         0.         0.        ]]\nAdversarial Features: [[ 1. -1.  1. ...  1. -1. -1.]]\nPrediction: [[1.]]\n\nTraining Step 8/12\n",
      "Malicious Features: [[0. 0. 0. ... 0. 0. 0.]]\nAdversarial Features: [[ 1. -1. -1. ...  1. -1. -1.]]\nPrediction: [[1.]]\n\nTraining Step 9/12\n",
      "Malicious Features: [[0. 0. 0. ... 0. 0. 0.]]\nAdversarial Features: [[ 1. -1. -1. ...  1.  1. -1.]]\nPrediction: [[1.]]\n\nTraining Step 10/12\n",
      "Malicious Features: [[0. 0. 0. ... 0. 0. 0.]]\nAdversarial Features: [[1. 1. 1. ... 1. 1. 1.]]\nPrediction: [[1.]]\n\nTraining Step 11/12\n",
      "Malicious Features: [[ 0.  0.  0. ...  0.  0. -2.]]\nAdversarial Features: [[-1.  1. -1. ... -1.  1. -1.]]\nPrediction: [[1.]]\n\nTraining Step 12/12\n",
      "Malicious Features: [[0. 0. 0. ... 0. 0. 0.]]\nAdversarial Features: [[-1.  1. -1. ... -1.  1. -1.]]\nPrediction: [[1.]]\n\nTime for Epoch 9 is 6.154470443725586 seconds\nEpoch 10/25\nTraining Step 1/12\n",
      "Malicious Features: [[0. 0. 0. ... 0. 0. 0.]]\nAdversarial Features: [[ 1. -1. -1. ... -1. -1.  1.]]\nPrediction: [[1.]]\n\nTraining Step 2/12\n",
      "Malicious Features: [[0. 0. 0. ... 0. 0. 0.]]\nAdversarial Features: [[ 1. -1.  1. ...  1. -1. -1.]]\nPrediction: [[1.]]\n\nTraining Step 3/12\n",
      "Malicious Features: [[0.00670479 0.00900167 0.01142721 ... 0.         0.         0.        ]]\nAdversarial Features: [[ 1. -1.  1. ...  1. -1.  1.]]\nPrediction: [[1.]]\n\nTraining Step 4/12\n",
      "Malicious Features: [[0. 0. 0. ... 0. 0. 0.]]\nAdversarial Features: [[ 1.  1. -1. ... -1. -1.  1.]]\nPrediction: [[1.]]\n\nTraining Step 5/12\n",
      "Malicious Features: [[0. 0. 1. ... 0. 1. 1.]]\nAdversarial Features: [[-1. -1. -1. ...  1. -1. -1.]]\nPrediction: [[1.]]\n\nTraining Step 6/12\n",
      "Malicious Features: [[0. 0. 0. ... 0. 0. 0.]]\nAdversarial Features: [[ 1.  1. -1. ... -1.  1. -1.]]\nPrediction: [[1.]]\n\nTraining Step 7/12\n",
      "Malicious Features: [[0.00277231 0.00208891 0.00204609 ... 0.00538315 0.0082182  0.0047769 ]]\nAdversarial Features: [[ 1.  1. -1. ... -1. -1. -1.]]\nPrediction: [[1.]]\n\nTraining Step 8/12\n",
      "Malicious Features: [[0. 0. 0. ... 0. 0. 0.]]\nAdversarial Features: [[-1.  1.  1. ...  1. -1.  1.]]\nPrediction: [[1.]]\n\nTraining Step 9/12\n",
      "Malicious Features: [[0. 0. 0. ... 0. 0. 0.]]\nAdversarial Features: [[ 1.  1. -1. ...  1.  1. -1.]]\nPrediction: [[1.]]\n\nTraining Step 10/12\n",
      "Malicious Features: [[0. 0. 0. ... 0. 0. 0.]]\nAdversarial Features: [[ 1.  1. -1. ...  1.  1. -1.]]\nPrediction: [[1.]]\n\nTraining Step 11/12\n",
      "Malicious Features: [[0. 0. 0. ... 0. 0. 0.]]\nAdversarial Features: [[ 1. -1. -1. ...  1. -1. -1.]]\nPrediction: [[1.]]\n\nTraining Step 12/12\n",
      "Malicious Features: [[0. 0. 0. ... 0. 0. 1.]]\nAdversarial Features: [[ 1. -1. -1. ...  1.  1.  1.]]\nPrediction: [[1.]]\n\nTime for Epoch 10 is 5.43481707572937 seconds\nEpoch 11/25\nTraining Step 1/12\n",
      "Malicious Features: [[0. 0. 0. ... 0. 0. 0.]]\nAdversarial Features: [[ 1. -1. -1. ...  1. -1. -1.]]\nPrediction: [[1.]]\n\nTraining Step 2/12\n",
      "Malicious Features: [[-1.  0.  0. ...  0.  0.  0.]]\nAdversarial Features: [[-1.  1. -1. ...  1. -1. -1.]]\nPrediction: [[1.]]\n\nTraining Step 3/12\n",
      "Malicious Features: [[0.00670479 0.00900167 0.01142721 ... 0.         0.         0.        ]]\nAdversarial Features: [[ 1. -1.  1. ...  1. -1.  1.]]\nPrediction: [[1.]]\n\nTraining Step 4/12\n",
      "Malicious Features: [[4.0436612e-04 1.5209620e-04 1.1118757e-04 ... 5.0524300e-06\n  5.1246072e-05 7.7229997e-05]]\nAdversarial Features: [[ 1. -1. -1. ...  1.  1.  1.]]\nPrediction: [[1.]]\n\nTraining Step 5/12\n",
      "Malicious Features: [[4.6770233e-06 1.2861815e-06 7.4832374e-06 ... 8.1079916e-06\n  7.2071034e-06 8.1079916e-06]]\nAdversarial Features: [[ 1. -1.  1. ...  1.  1.  1.]]\nPrediction: [[1.]]\n\nTraining Step 6/12\n",
      "Malicious Features: [[2.3702973e-05 6.3998028e-05 4.3163113e-03 ... 0.0000000e+00\n  0.0000000e+00 0.0000000e+00]]\nAdversarial Features: [[-1.  1. -1. ...  1. -1. -1.]]\nPrediction: [[1.]]\n\nTraining Step 7/12\n",
      "Malicious Features: [[0. 0. 0. ... 0. 0. 0.]]\nAdversarial Features: [[ 1.  1. -1. ...  1.  1. -1.]]\nPrediction: [[1.]]\n\nTraining Step 8/12\n",
      "Malicious Features: [[0. 0. 0. ... 0. 0. 0.]]\nAdversarial Features: [[ 1. -1. -1. ...  1. -1. -1.]]\nPrediction: [[1.]]\n\nTraining Step 9/12\n",
      "Malicious Features: [[0. 0. 0. ... 0. 0. 0.]]\nAdversarial Features: [[ 1. -1.  1. ...  1. -1.  1.]]\nPrediction: [[1.]]\n\nTraining Step 10/12\n",
      "Malicious Features: [[0. 0. 0. ... 0. 0. 0.]]\nAdversarial Features: [[-1.  1. -1. ... -1.  1.  1.]]\nPrediction: [[1.]]\n\nTraining Step 11/12\n",
      "Malicious Features: [[0. 0. 0. ... 0. 0. 0.]]\nAdversarial Features: [[ 1. -1. -1. ...  1. -1.  1.]]\nPrediction: [[1.]]\n\nTraining Step 12/12\n",
      "Malicious Features: [[0. 1. 0. ... 0. 0. 0.]]\nAdversarial Features: [[ 1.  1.  1. ...  1.  1. -1.]]\nPrediction: [[1.]]\n\nTime for Epoch 11 is 4.986578702926636 seconds\nEpoch 12/25\nTraining Step 1/12\n",
      "Malicious Features: [[0. 0. 0. ... 0. 0. 0.]]\nAdversarial Features: [[ 1.  1.  1. ... -1. -1. -1.]]\nPrediction: [[1.]]\n\nTraining Step 2/12\n",
      "Malicious Features: [[0.0001982  0.00013951 0.00047212 ... 0.00023421 0.00061889 0.00057412]]\nAdversarial Features: [[-1.  1. -1. ... -1. -1. -1.]]\nPrediction: [[1.]]\n\nTraining Step 3/12\n",
      "Malicious Features: [[1.3912701e-04 2.8167604e-04 9.3785078e-05 ... 5.9621711e-03\n  2.1844162e-03 2.8268914e-04]]\nAdversarial Features: [[ 1. -1.  1. ... -1. -1.  1.]]\nPrediction: [[1.]]\n\nTraining Step 4/12\n",
      "Malicious Features: [[0. 0. 0. ... 0. 0. 0.]]\nAdversarial Features: [[ 1.  1. -1. ...  1.  1.  1.]]\nPrediction: [[1.]]\n\nTraining Step 5/12\n",
      "Malicious Features: [[0. 0. 0. ... 0. 0. 0.]]\nAdversarial Features: [[ 1.  1.  1. ...  1. -1. -1.]]\nPrediction: [[1.]]\n\nTraining Step 6/12\n",
      "Malicious Features: [[0. 0. 0. ... 0. 0. 0.]]\nAdversarial Features: [[ 1. -1. -1. ...  1. -1. -1.]]\nPrediction: [[1.]]\n\nTraining Step 7/12\n",
      "Malicious Features: [[ 1.  0. -1. ...  0.  0. -1.]]\nAdversarial Features: [[ 1. -1. -1. ... -1. -1.  1.]]\nPrediction: [[1.]]\n\nTraining Step 8/12\n",
      "Malicious Features: [[0. 0. 0. ... 0. 0. 0.]]\nAdversarial Features: [[ 1. -1. -1. ... -1.  1. -1.]]\nPrediction: [[1.]]\n\nTraining Step 9/12\n",
      "Malicious Features: [[0. 0. 0. ... 0. 0. 0.]]\nAdversarial Features: [[1. 1. 1. ... 1. 1. 1.]]\nPrediction: [[1.]]\n\nTraining Step 10/12\n",
      "Malicious Features: [[0. 0. 0. ... 0. 0. 0.]]\nAdversarial Features: [[ 1.  1.  1. ...  1.  1. -1.]]\nPrediction: [[1.]]\n\nTraining Step 11/12\n",
      "Malicious Features: [[0.00319156 0.00222878 0.00217951 ... 0.00163367 0.00120924 0.00104107]]\nAdversarial Features: [[ 1.  1.  1. ...  1.  1. -1.]]\nPrediction: [[1.]]\n\nTraining Step 12/12\n",
      "Malicious Features: [[0.00265978 0.00284136 0.00255182 ... 0.00374288 0.00388347 0.00402653]]\nAdversarial Features: [[ 1. -1. -1. ...  1. -1. -1.]]\nPrediction: [[1.]]\n\nTime for Epoch 12 is 5.59136962890625 seconds\nEpoch 13/25\nTraining Step 1/12\n",
      "Malicious Features: [[0. 0. 0. ... 0. 0. 0.]]\nAdversarial Features: [[ 1. -1. -1. ...  1. -1.  1.]]\nPrediction: [[1.]]\n\nTraining Step 2/12\n",
      "Malicious Features: [[0. 0. 0. ... 0. 0. 0.]]\nAdversarial Features: [[-1. -1. -1. ...  1.  1.  1.]]\nPrediction: [[1.]]\n\nTraining Step 3/12\n",
      "Malicious Features: [[0. 0. 0. ... 0. 0. 1.]]\nAdversarial Features: [[-1.  1. -1. ...  1. -1.  1.]]\nPrediction: [[1.]]\n\nTraining Step 4/12\n",
      "Malicious Features: [[0. 0. 0. ... 0. 0. 0.]]\nAdversarial Features: [[ 1. -1. -1. ...  1. -1. -1.]]\nPrediction: [[1.]]\n\nTraining Step 5/12\n",
      "Malicious Features: [[0.00081949 0.00093017 0.0010664  ... 0.003138   0.00309228 0.00322184]]\nAdversarial Features: [[ 1. -1.  1. ... -1.  1.  1.]]\nPrediction: [[1.]]\n\nTraining Step 6/12\n",
      "Malicious Features: [[0. 0. 0. ... 0. 0. 0.]]\nAdversarial Features: [[ 1.  1.  1. ...  1. -1.  1.]]\nPrediction: [[1.]]\n\nTraining Step 7/12\n",
      "Malicious Features: [[0.         0.         0.         ... 0.00202836 0.0014094  0.00211946]]\nAdversarial Features: [[-1. -1. -1. ...  1.  1. -1.]]\nPrediction: [[1.]]\n\nTraining Step 8/12\n",
      "Malicious Features: [[0. 0. 0. ... 0. 0. 0.]]\nAdversarial Features: [[ 1.  1. -1. ... -1. -1.  1.]]\nPrediction: [[1.]]\n\nTraining Step 9/12\n",
      "Malicious Features: [[0. 0. 0. ... 0. 0. 0.]]\nAdversarial Features: [[ 1.  1.  1. ...  1. -1.  1.]]\nPrediction: [[1.]]\n\nTraining Step 10/12\n",
      "Malicious Features: [[0. 0. 0. ... 0. 0. 0.]]\nAdversarial Features: [[-1.  1. -1. ... -1. -1.  1.]]\nPrediction: [[1.]]\n\nTraining Step 11/12\n",
      "Malicious Features: [[0.00211565 0.00285425 0.0016149  ... 0.00528874 0.01465633 0.00435607]]\nAdversarial Features: [[ 1. -1. -1. ...  1.  1. -1.]]\nPrediction: [[1.]]\n\nTraining Step 12/12\n",
      "Malicious Features: [[0.0000000e+00 0.0000000e+00 0.0000000e+00 ... 2.1896019e-05\n  2.6761802e-05 5.0823094e-04]]\nAdversarial Features: [[ 1. -1.  1. ...  1. -1. -1.]]\nPrediction: [[1.]]\n\nTime for Epoch 13 is 5.255181789398193 seconds\nEpoch 14/25\nTraining Step 1/12\n",
      "Malicious Features: [[0.07604562 0.01520913 0.03802281 ... 0.         0.         7.        ]]\nAdversarial Features: [[ 1.  1. -1. ... -1. -1. -1.]]\nPrediction: [[1.]]\n\nTraining Step 2/12\n",
      "Malicious Features: [[ 0.  0.  0. ...  0. -1.  1.]]\nAdversarial Features: [[ 1. -1.  1. ... -1.  1. -1.]]\nPrediction: [[1.]]\n\nTraining Step 3/12\n",
      "Malicious Features: [[1.3067105e-02 1.1955011e-02 1.4356123e-02 ... 0.0000000e+00\n  0.0000000e+00 8.3232134e+08]]\nAdversarial Features: [[ 1.  1. -1. ...  1.  1. -1.]]\nPrediction: [[1.]]\n\nTraining Step 4/12\n",
      "Malicious Features: [[0.00023639 0.00017439 0.00053091 ... 0.00157928 0.00034332 0.00034332]]\nAdversarial Features: [[ 1.  1. -1. ...  1.  1. -1.]]\nPrediction: [[1.]]\n\nTraining Step 5/12\n",
      "Malicious Features: [[0. 0. 0. ... 0. 0. 0.]]\nAdversarial Features: [[ 1.  1. -1. ...  1. -1.  1.]]\nPrediction: [[1.]]\n\nTraining Step 6/12\n",
      "Malicious Features: [[1.0172526e-05 2.7387571e-06 4.3037612e-06 ... 5.0753250e-05\n  0.0000000e+00 0.0000000e+00]]\nAdversarial Features: [[-1. -1. -1. ...  1.  1. -1.]]\nPrediction: [[1.]]\n\nTraining Step 7/12\n",
      "Malicious Features: [[0.00224248 0.00303819 0.00296586 ... 0.00036707 0.00097886 0.0003426 ]]\nAdversarial Features: [[ 1.  1. -1. ...  1. -1.  1.]]\nPrediction: [[1.]]\n\nTraining Step 8/12\n",
      "Malicious Features: [[0.00189382 0.00091923 0.00093505 ... 0.00046647 0.00087261 0.00089393]]\nAdversarial Features: [[ 1.  1.  1. ... -1.  1.  1.]]\nPrediction: [[1.]]\n\nTraining Step 9/12\n",
      "Malicious Features: [[0.       0.       0.       ... 0.       0.       2.299104]]\nAdversarial Features: [[ 1. -1.  1. ... -1. -1. -1.]]\nPrediction: [[1.]]\n\nTraining Step 10/12\n",
      "Malicious Features: [[   0.    0.    0. ...    0. 3220.    0.]]\nAdversarial Features: [[-1. -1.  1. ...  1. -1.  1.]]\nPrediction: [[1.]]\n\nTraining Step 11/12\n",
      "Malicious Features: [[0.01220314 0.01220314 0.01290716 ... 0.00618921 0.00265252 0.00530504]]\nAdversarial Features: [[ 1.  1.  1. ...  1.  1. -1.]]\nPrediction: [[1.]]\n\nTraining Step 12/12\n",
      "Malicious Features: [[0. 0. 0. ... 0. 0. 0.]]\nAdversarial Features: [[-1.  1. -1. ...  1.  1.  1.]]\nPrediction: [[1.]]\n\nTime for Epoch 14 is 5.155044317245483 seconds\nEpoch 15/25\nTraining Step 1/12\n",
      "Malicious Features: [[0. 0. 0. ... 0. 0. 0.]]\nAdversarial Features: [[ 1.  1.  1. ...  1. -1.  1.]]\nPrediction: [[1.]]\n\nTraining Step 2/12\n",
      "Malicious Features: [[0. 0. 0. ... 0. 0. 0.]]\nAdversarial Features: [[ 1.  1. -1. ... -1. -1. -1.]]\nPrediction: [[1.]]\n\nTraining Step 3/12\n",
      "Malicious Features: [[0. 0. 0. ... 0. 0. 0.]]\nAdversarial Features: [[ 1.  1. -1. ...  1. -1. -1.]]\nPrediction: [[1.]]\n\nTraining Step 4/12\n",
      "Malicious Features: [[0. 0. 0. ... 0. 0. 0.]]\nAdversarial Features: [[-1. -1.  1. ...  1. -1. -1.]]\nPrediction: [[1.]]\n\nTraining Step 5/12\n",
      "Malicious Features: [[0. 0. 0. ... 0. 0. 0.]]\nAdversarial Features: [[ 1. -1.  1. ...  1. -1.  1.]]\nPrediction: [[1.]]\n\nTraining Step 6/12\n",
      "Malicious Features: [[0.00163378 0.0006387  0.00010182 ... 0.00609203 0.00795803 0.00396848]]\nAdversarial Features: [[ 1.  1.  1. ...  1.  1. -1.]]\nPrediction: [[1.]]\n\nTraining Step 7/12\n",
      "Malicious Features: [[0.00043945 0.00140137 0.00038086 ... 0.00998264 0.00683594 0.01226128]]\nAdversarial Features: [[-1.  1. -1. ... -1. -1. -1.]]\nPrediction: [[1.]]\n\nTraining Step 8/12\n",
      "Malicious Features: [[0. 0. 0. ... 0. 0. 0.]]\nAdversarial Features: [[ 1.  1.  1. ... -1. -1.  1.]]\nPrediction: [[1.]]\n\nTraining Step 9/12\n",
      "Malicious Features: [[0.00146883 0.00229649 0.00124882 ... 0.00057531 0.0006733  0.00074829]]\nAdversarial Features: [[ 1. -1. -1. ...  1. -1. -1.]]\nPrediction: [[1.]]\n\nTraining Step 10/12\n",
      "Malicious Features: [[0. 0. 0. ... 0. 0. 0.]]\nAdversarial Features: [[ 1.  1. -1. ...  1.  1. -1.]]\nPrediction: [[1.]]\n\nTraining Step 11/12\n",
      "Malicious Features: [[0.00591972 0.00460366 0.00092988 ... 0.0012907  0.00206281 0.00203976]]\nAdversarial Features: [[ 1.  1. -1. ...  1. -1.  1.]]\nPrediction: [[1.]]\n\nTraining Step 12/12\n",
      "Malicious Features: [[0. 0. 0. ... 0. 0. 0.]]\nAdversarial Features: [[ 1. -1.  1. ... -1.  1. -1.]]\nPrediction: [[1.]]\n\nShould save here\nTime for Epoch 15 is 5.94461464881897 seconds\nEpoch 16/25\nTraining Step 1/12\n",
      "Malicious Features: [[0. 0. 0. ... 0. 0. 0.]]\nAdversarial Features: [[ 1. -1. -1. ...  1.  1. -1.]]\nPrediction: [[1.]]\n\nTraining Step 2/12\n",
      "Malicious Features: [[0. 0. 0. ... 0. 0. 0.]]\nAdversarial Features: [[ 1.  1. -1. ...  1.  1.  1.]]\nPrediction: [[1.]]\n\nTraining Step 3/12\n",
      "Malicious Features: [[0.0000000e+00 0.0000000e+00 0.0000000e+00 ... 3.6198773e-05\n  1.6088344e-06 6.4353376e-06]]\nAdversarial Features: [[1. 1. 1. ... 1. 1. 1.]]\nPrediction: [[1.]]\n\nTraining Step 4/12\n",
      "Malicious Features: [[0. 0. 0. ... 0. 0. 0.]]\nAdversarial Features: [[ 1. -1. -1. ...  1. -1. -1.]]\nPrediction: [[1.]]\n\nTraining Step 5/12\n",
      "Malicious Features: [[-1.  0.  0. ...  0.  0.  0.]]\nAdversarial Features: [[-1. -1. -1. ...  1.  1. -1.]]\nPrediction: [[1.]]\n\nTraining Step 6/12\n",
      "Malicious Features: [[ 0. -1.  0. ...  0.  0.  0.]]\nAdversarial Features: [[ 1.  1.  1. ... -1. -1. -1.]]\nPrediction: [[1.]]\n\nTraining Step 7/12\n",
      "Malicious Features: [[0. 0. 0. ... 0. 0. 0.]]\nAdversarial Features: [[ 1. -1.  1. ...  1. -1. -1.]]\nPrediction: [[1.]]\n\nTraining Step 8/12\n",
      "Malicious Features: [[0. 0. 0. ... 0. 0. 0.]]\nAdversarial Features: [[ 1. -1. -1. ...  1.  1.  1.]]\nPrediction: [[1.]]\n\nTraining Step 9/12\n",
      "Malicious Features: [[0.0011084  0.00133735 0.00125682 ... 0.00166078 0.00042141 0.00232011]]\nAdversarial Features: [[ 1. -1.  1. ...  1. -1.  1.]]\nPrediction: [[1.]]\n\nTraining Step 10/12\n",
      "Malicious Features: [[0. 0. 0. ... 2. 0. 1.]]\nAdversarial Features: [[-1.  1.  1. ...  1.  1. -1.]]\nPrediction: [[1.]]\n\nTraining Step 11/12\n",
      "Malicious Features: [[0.00618289 0.04916672 0.01097122 ... 0.01069104 0.00852185 0.00573288]]\nAdversarial Features: [[-1. -1. -1. ... -1. -1. -1.]]\nPrediction: [[1.]]\n\nTraining Step 12/12\n",
      "Malicious Features: [[0. 0. 1. ... 0. 0. 0.]]\nAdversarial Features: [[ 1. -1.  1. ...  1. -1.  1.]]\nPrediction: [[1.]]\n\nTime for Epoch 16 is 5.619818449020386 seconds\nEpoch 17/25\nTraining Step 1/12\n",
      "Malicious Features: [[0. 0. 0. ... 0. 0. 0.]]\nAdversarial Features: [[ 1. -1. -1. ... -1.  1. -1.]]\nPrediction: [[1.]]\n\nTraining Step 2/12\n",
      "Malicious Features: [[2.2079901e-05 3.1542716e-06 0.0000000e+00 ... 5.1343250e-05\n  5.1690164e-05 1.1430812e-04]]\nAdversarial Features: [[ 1. -1.  1. ...  1. -1. -1.]]\nPrediction: [[1.]]\n\nTraining Step 3/12\n",
      "Malicious Features: [[      0.       0.       0. ...       0.       0. -245368.]]\nAdversarial Features: [[-1.  1. -1. ...  1.  1. -1.]]\nPrediction: [[1.]]\n\nTraining Step 4/12\n",
      "Malicious Features: [[0. 0. 0. ... 0. 0. 0.]]\nAdversarial Features: [[ 1.  1. -1. ...  1.  1. -1.]]\nPrediction: [[1.]]\n\nTraining Step 5/12\n",
      "Malicious Features: [[ 0.  0.  0. ...  0.  0. -1.]]\nAdversarial Features: [[ 1.  1. -1. ...  1. -1.  1.]]\nPrediction: [[1.]]\n\nTraining Step 6/12\n",
      "Malicious Features: [[0. 0. 0. ... 0. 0. 0.]]\nAdversarial Features: [[ 1.  1. -1. ... -1.  1.  1.]]\nPrediction: [[1.]]\n\nTraining Step 7/12\n",
      "Malicious Features: [[0.0072478  0.00901077 0.00528893 ... 0.00820901 0.02220001 0.00663859]]\nAdversarial Features: [[ 1.  1.  1. ...  1.  1. -1.]]\nPrediction: [[1.]]\n\nTraining Step 8/12\n",
      "Malicious Features: [[0.00091998 0.00101964 0.00078006 ... 0.00180881 0.00205415 0.00200604]]\nAdversarial Features: [[ 1. -1. -1. ...  1.  1. -1.]]\nPrediction: [[1.]]\n\nTraining Step 9/12\n",
      "Malicious Features: [[0. 0. 0. ... 0. 0. 0.]]\nAdversarial Features: [[ 1. -1.  1. ... -1.  1. -1.]]\nPrediction: [[1.]]\n\nTraining Step 10/12\n",
      "Malicious Features: [[0.00310551 0.00390131 0.00323412 ... 0.00403876 0.00372728 0.00358352]]\nAdversarial Features: [[-1.  1.  1. ...  1.  1. -1.]]\nPrediction: [[1.]]\n\nTraining Step 11/12\n",
      "Malicious Features: [[0. 0. 0. ... 0. 0. 0.]]\nAdversarial Features: [[ 1. -1.  1. ... -1. -1. -1.]]\nPrediction: [[1.]]\n\nTraining Step 12/12\n",
      "Malicious Features: [[0. 0. 0. ... 0. 0. 0.]]\nAdversarial Features: [[ 1.  1. -1. ...  1. -1.  1.]]\nPrediction: [[1.]]\n\nTime for Epoch 17 is 5.083431243896484 seconds\nEpoch 18/25\nTraining Step 1/12\n",
      "Malicious Features: [[0.00460899 0.00141212 0.00191061 ... 0.00140316 0.00235445 0.00107021]]\nAdversarial Features: [[ 1. -1. -1. ...  1.  1. -1.]]\nPrediction: [[1.]]\n\nTraining Step 2/12\n",
      "Malicious Features: [[ 0.  0.  0. ... -1.  0.  0.]]\nAdversarial Features: [[ 1.  1. -1. ...  1. -1. -1.]]\nPrediction: [[1.]]\n\nTraining Step 3/12\n",
      "Malicious Features: [[0. 0. 0. ... 0. 0. 0.]]\nAdversarial Features: [[ 1. -1. -1. ...  1.  1. -1.]]\nPrediction: [[1.]]\n\nTraining Step 4/12\n",
      "Malicious Features: [[0.00108313 0.00193165 0.00146212 ... 0.00063426 0.00916579 0.00102501]]\nAdversarial Features: [[1. 1. 1. ... 1. 1. 1.]]\nPrediction: [[1.]]\n\nTraining Step 5/12\n",
      "Malicious Features: [[0.00127823 0.00154113 0.00091675 ... 0.00020032 0.00197316 0.00040064]]\nAdversarial Features: [[ 1.  1.  1. ... -1.  1. -1.]]\nPrediction: [[1.]]\n\nTraining Step 6/12\n",
      "Malicious Features: [[110.   1.   1. ...   0.   0.   0.]]\nAdversarial Features: [[ 1.  1.  1. ... -1. -1.  1.]]\nPrediction: [[1.]]\n\nTraining Step 7/12\n",
      "Malicious Features: [[9.4253592e-05 2.9688180e-04 6.1588085e-05 ... 0.0000000e+00\n  0.0000000e+00 0.0000000e+00]]\nAdversarial Features: [[ 1.  1. -1. ...  1. -1. -1.]]\nPrediction: [[1.]]\n\nTraining Step 8/12\n",
      "Malicious Features: [[0.0000000e+00 9.0117316e-04 9.6065756e-05 ... 0.0000000e+00\n  0.0000000e+00 0.0000000e+00]]\nAdversarial Features: [[-1. -1. -1. ...  1.  1. -1.]]\nPrediction: [[1.]]\n\nTraining Step 9/12\n",
      "Malicious Features: [[0.0000000e+00 0.0000000e+00 0.0000000e+00 ... 1.7155196e-05\n  3.6994541e-05 2.0772959e-05]]\nAdversarial Features: [[ 1. -1.  1. ... -1.  1. -1.]]\nPrediction: [[1.]]\n\nTraining Step 10/12\n",
      "Malicious Features: [[0.00010851 0.00043403 0.         ... 0.00741275 0.00315773 0.00296993]]\nAdversarial Features: [[ 1. -1.  1. ...  1. -1. -1.]]\nPrediction: [[1.]]\n\nTraining Step 11/12\n",
      "Malicious Features: [[0. 0. 0. ... 0. 0. 0.]]\nAdversarial Features: [[ 1. -1. -1. ...  1. -1.  1.]]\nPrediction: [[1.]]\n\nTraining Step 12/12\n",
      "Malicious Features: [[0. 0. 0. ... 0. 0. 0.]]\nAdversarial Features: [[ 1.  1.  1. ... -1.  1. -1.]]\nPrediction: [[1.]]\n\nTime for Epoch 18 is 5.131682634353638 seconds\nEpoch 19/25\nTraining Step 1/12\n",
      "Malicious Features: [[0. 0. 0. ... 0. 0. 0.]]\nAdversarial Features: [[-1.  1.  1. ...  1. -1. -1.]]\nPrediction: [[1.]]\n\nTraining Step 2/12\n",
      "Malicious Features: [[0. 0. 0. ... 0. 0. 0.]]\nAdversarial Features: [[ 1. -1. -1. ...  1.  1.  1.]]\nPrediction: [[1.]]\n\nTraining Step 3/12\n",
      "Malicious Features: [[  0. 100.   0. ...   0.   0.   0.]]\nAdversarial Features: [[ 1.  1. -1. ...  1.  1.  1.]]\nPrediction: [[1.]]\n\nTraining Step 4/12\n",
      "Malicious Features: [[0.00219658 0.00181786 0.00285303 ... 0.         0.         0.        ]]\nAdversarial Features: [[ 1.  1.  1. ... -1. -1. -1.]]\nPrediction: [[1.]]\n\nTraining Step 5/12\n",
      "Malicious Features: [[0. 0. 0. ... 0. 0. 0.]]\nAdversarial Features: [[ 1. -1.  1. ...  1.  1. -1.]]\nPrediction: [[1.]]\n\nTraining Step 6/12\n",
      "Malicious Features: [[0.0005364  0.00229885 0.00104725 ... 0.00286589 0.00707758 0.0117902 ]]\nAdversarial Features: [[ 1.  1.  1. ...  1. -1.  1.]]\nPrediction: [[1.]]\n\nTraining Step 7/12\n",
      "Malicious Features: [[0. 0. 0. ... 0. 0. 0.]]\nAdversarial Features: [[ 1.  1.  1. ... -1. -1. -1.]]\nPrediction: [[1.]]\n\nTraining Step 8/12\n",
      "Malicious Features: [[0.00251903 0.00164285 0.00073928 ... 0.00257548 0.00242593 0.00274164]]\nAdversarial Features: [[ 1. -1. -1. ...  1. -1. -1.]]\nPrediction: [[1.]]\n\nTraining Step 9/12\n",
      "Malicious Features: [[0.00729167 0.03258463 0.00511068 ... 0.00384325 0.00507182 0.0047568 ]]\nAdversarial Features: [[ 1. -1. -1. ... -1.  1. -1.]]\nPrediction: [[1.]]\n\nTraining Step 10/12\n",
      "Malicious Features: [[0. 0. 0. ... 0. 0. 0.]]\nAdversarial Features: [[ 1.  1. -1. ... -1. -1.  1.]]\nPrediction: [[1.]]\n\nTraining Step 11/12\n",
      "Malicious Features: [[0. 0. 0. ... 0. 0. 0.]]\nAdversarial Features: [[-1.  1.  1. ...  1. -1.  1.]]\nPrediction: [[1.]]\n\nTraining Step 12/12\n",
      "Malicious Features: [[0. 0. 0. ... 0. 0. 0.]]\nAdversarial Features: [[ 1.  1. -1. ...  1.  1.  1.]]\nPrediction: [[1.]]\n\nTime for Epoch 19 is 6.897895812988281 seconds\nEpoch 20/25\nTraining Step 1/12\n",
      "Malicious Features: [[0. 0. 0. ... 0. 0. 0.]]\nAdversarial Features: [[ 1.  1. -1. ... -1. -1.  1.]]\nPrediction: [[1.]]\n\nTraining Step 2/12\n",
      "Malicious Features: [[0.00087218 0.00323592 0.00141571 ... 0.00042303 0.00088733 0.00086669]]\nAdversarial Features: [[1. 1. 1. ... 1. 1. 1.]]\nPrediction: [[1.]]\n\nTraining Step 3/12\n",
      "Malicious Features: [[0.0000000e+00 0.0000000e+00 0.0000000e+00 ... 7.8573998e-05\n  1.2347342e-04 1.0102371e-04]]\nAdversarial Features: [[ 1. -1.  1. ...  1. -1. -1.]]\nPrediction: [[1.]]\n\nTraining Step 4/12\n",
      "Malicious Features: [[0.00016622 0.00012467 0.00062334 ... 0.00133217 0.00226238 0.00297307]]\nAdversarial Features: [[-1. -1. -1. ...  1. -1.  1.]]\nPrediction: [[1.]]\n\nTraining Step 5/12\n",
      "Malicious Features: [[0. 0. 0. ... 0. 0. 0.]]\nAdversarial Features: [[ 1.  1. -1. ...  1.  1. -1.]]\nPrediction: [[1.]]\n\nTraining Step 6/12\n",
      "Malicious Features: [[ 0.  1. -1. ...  0.  0.  0.]]\nAdversarial Features: [[ 1. -1. -1. ...  1. -1. -1.]]\nPrediction: [[1.]]\n\nTraining Step 7/12\n",
      "Malicious Features: [[ 0.  0.  0. ...  1. -1.  0.]]\nAdversarial Features: [[ 1. -1.  1. ...  1. -1. -1.]]\nPrediction: [[1.]]\n\nTraining Step 8/12\n",
      "Malicious Features: [[8.6223200e-04 7.5738615e-04 1.1015427e-03 ... 9.9751026e-07\n  9.9751026e-07 0.0000000e+00]]\nAdversarial Features: [[ 1.  1. -1. ...  1.  1.  1.]]\nPrediction: [[1.]]\n\nTraining Step 9/12\n",
      "Malicious Features: [[ 0.          0.          0.         ... -0.54356444  0.\n   0.        ]]\nAdversarial Features: [[ 1.  1. -1. ...  1.  1.  1.]]\nPrediction: [[1.]]\n\nTraining Step 10/12\n",
      "Malicious Features: [[0. 0. 0. ... 0. 0. 0.]]\nAdversarial Features: [[ 1. -1.  1. ...  1.  1.  1.]]\nPrediction: [[1.]]\n\nTraining Step 11/12\n",
      "Malicious Features: [[0. 0. 0. ... 0. 0. 0.]]\nAdversarial Features: [[ 1.  1. -1. ...  1. -1. -1.]]\nPrediction: [[1.]]\n\nTraining Step 12/12\n",
      "Malicious Features: [[0.00366667 0.00380586 0.00373398 ... 0.00320239 0.00351296 0.00321619]]\nAdversarial Features: [[ 1.  1. -1. ...  1. -1.  1.]]\nPrediction: [[1.]]\n\nTime for Epoch 20 is 6.371768474578857 seconds\nEpoch 21/25\nTraining Step 1/12\n",
      "Malicious Features: [[  0.   0. 168. ...   0.   0.   0.]]\nAdversarial Features: [[ 1. -1. -1. ...  1. -1. -1.]]\nPrediction: [[1.]]\n\nTraining Step 2/12\n",
      "Malicious Features: [[0. 0. 0. ... 0. 0. 0.]]\nAdversarial Features: [[-1.  1.  1. ...  1.  1.  1.]]\nPrediction: [[1.]]\n\nTraining Step 3/12\n",
      "Malicious Features: [[2.1728614e-02 4.9165753e-04 3.1566518e-04 ... 2.2321428e-05\n  6.4174106e-05 5.0223214e-05]]\nAdversarial Features: [[ 1. -1.  1. ...  1. -1. -1.]]\nPrediction: [[1.]]\n\nTraining Step 4/12\n",
      "Malicious Features: [[0.00096752 0.00090868 0.00094391 ... 0.0075437  0.00449813 0.00684121]]\nAdversarial Features: [[ 1.  1. -1. ...  1.  1. -1.]]\nPrediction: [[1.]]\n\nTraining Step 5/12\n",
      "Malicious Features: [[0. 0. 0. ... 0. 0. 0.]]\nAdversarial Features: [[ 1.  1.  1. ...  1. -1. -1.]]\nPrediction: [[1.]]\n\nTraining Step 6/12\n",
      "Malicious Features: [[0.00297318 0.00468908 0.00328947 ... 0.00633894 0.00346296 0.00593993]]\nAdversarial Features: [[ 1.  1. -1. ...  1. -1.  1.]]\nPrediction: [[1.]]\n\nTraining Step 7/12\n",
      "Malicious Features: [[ 0.  1.  0. ... -3.  0.  0.]]\nAdversarial Features: [[ 1.  1. -1. ... -1. -1. -1.]]\nPrediction: [[1.]]\n\nTraining Step 8/12\n",
      "Malicious Features: [[0.01849231 0.00125634 0.00356053 ... 0.00093156 0.00704292 0.00113921]]\nAdversarial Features: [[ 1. -1. -1. ... -1. -1. -1.]]\nPrediction: [[1.]]\n\nTraining Step 9/12\n",
      "Malicious Features: [[0. 0. 0. ... 0. 0. 0.]]\nAdversarial Features: [[-1.  1. -1. ... -1. -1.  1.]]\nPrediction: [[1.]]\n\nTraining Step 10/12\n",
      "Malicious Features: [[0.         0.         0.         ... 0.00200568 0.00058243 0.00285305]]\nAdversarial Features: [[ 1. -1.  1. ... -1.  1. -1.]]\nPrediction: [[1.]]\n\nTraining Step 11/12\n",
      "Malicious Features: [[0. 0. 0. ... 0. 0. 0.]]\nAdversarial Features: [[ 1. -1. -1. ...  1.  1.  1.]]\nPrediction: [[1.]]\n\nTraining Step 12/12\n",
      "Malicious Features: [[0. 0. 0. ... 0. 0. 0.]]\nAdversarial Features: [[-1. -1.  1. ... -1. -1.  1.]]\nPrediction: [[1.]]\n\nTime for Epoch 21 is 7.273085594177246 seconds\nEpoch 22/25\nTraining Step 1/12\n",
      "Malicious Features: [[0. 0. 0. ... 0. 0. 0.]]\nAdversarial Features: [[-1.  1.  1. ...  1.  1. -1.]]\nPrediction: [[1.]]\n\nTraining Step 2/12\n",
      "Malicious Features: [[0. 0. 0. ... 0. 0. 0.]]\nAdversarial Features: [[ 1.  1. -1. ...  1. -1. -1.]]\nPrediction: [[1.]]\n\nTraining Step 3/12\n",
      "Malicious Features: [[0.00078589 0.00955259 0.00222216 ... 0.00376888 0.00399036 0.00389276]]\nAdversarial Features: [[ 1.  1. -1. ...  1. -1.  1.]]\nPrediction: [[1.]]\n\nTraining Step 4/12\n",
      "Malicious Features: [[0. 0. 0. ... 0. 0. 0.]]\nAdversarial Features: [[-1.  1.  1. ...  1.  1. -1.]]\nPrediction: [[1.]]\n\nTraining Step 5/12\n",
      "Malicious Features: [[0. 0. 0. ... 0. 0. 0.]]\nAdversarial Features: [[-1.  1. -1. ...  1.  1. -1.]]\nPrediction: [[1.]]\n\nTraining Step 6/12\n",
      "Malicious Features: [[0.01062182 0.01399416 0.01089848 ... 0.00686819 0.01076163 0.00756813]]\nAdversarial Features: [[ 1.  1.  1. ...  1.  1. -1.]]\nPrediction: [[1.]]\n\nTraining Step 7/12\n",
      "Malicious Features: [[0. 0. 0. ... 0. 0. 1.]]\nAdversarial Features: [[ 1. -1. -1. ...  1.  1.  1.]]\nPrediction: [[1.]]\n\nTraining Step 8/12\n",
      "Malicious Features: [[1. 0. 0. ... 0. 0. 0.]]\nAdversarial Features: [[ 1.  1.  1. ...  1. -1. -1.]]\nPrediction: [[1.]]\n\nTraining Step 9/12\n",
      "Malicious Features: [[0. 0. 0. ... 0. 0. 0.]]\nAdversarial Features: [[ 1. -1. -1. ...  1. -1.  1.]]\nPrediction: [[1.]]\n\nTraining Step 10/12\n",
      "Malicious Features: [[0. 0. 0. ... 0. 0. 0.]]\nAdversarial Features: [[ 1. -1. -1. ...  1. -1.  1.]]\nPrediction: [[1.]]\n\nTraining Step 11/12\n",
      "Malicious Features: [[-1.  0.  0. ...  0.  1.  0.]]\nAdversarial Features: [[ 1.  1.  1. ...  1. -1. -1.]]\nPrediction: [[1.]]\n\nTraining Step 12/12\n",
      "Malicious Features: [[0. 0. 0. ... 0. 0. 0.]]\nAdversarial Features: [[ 1.  1. -1. ...  1.  1. -1.]]\nPrediction: [[1.]]\n\nTime for Epoch 22 is 5.769072771072388 seconds\nEpoch 23/25\nTraining Step 1/12\n",
      "Malicious Features: [[0.01057346 0.01514452 0.01814572 ... 0.00310603 0.00127065 0.00112946]]\nAdversarial Features: [[ 1.  1. -1. ...  1. -1.  1.]]\nPrediction: [[1.]]\n\nTraining Step 2/12\n",
      "Malicious Features: [[0. 0. 0. ... 0. 0. 0.]]\nAdversarial Features: [[ 1.  1.  1. ...  1. -1. -1.]]\nPrediction: [[1.]]\n\nTraining Step 3/12\n",
      "Malicious Features: [[-1.  0.  0. ...  0.  0.  0.]]\nAdversarial Features: [[ 1.  1. -1. ... -1. -1. -1.]]\nPrediction: [[1.]]\n\nTraining Step 4/12\n",
      "Malicious Features: [[-1.  0.  0. ...  0.  0.  0.]]\nAdversarial Features: [[-1. -1. -1. ... -1.  1.  1.]]\nPrediction: [[1.]]\n\nTraining Step 5/12\n",
      "Malicious Features: [[0.00394455 0.00389029 0.00385286 ... 0.00390613 0.00390349 0.0039114 ]]\nAdversarial Features: [[ 1. -1. -1. ...  1.  1. -1.]]\nPrediction: [[1.]]\n\nTraining Step 6/12\n",
      "Malicious Features: [[    0.     0.     0. ...     0.     0. -1580.]]\nAdversarial Features: [[-1.  1. -1. ...  1. -1. -1.]]\nPrediction: [[1.]]\n\nTraining Step 7/12\n",
      "Malicious Features: [[0. 0. 0. ... 0. 0. 0.]]\nAdversarial Features: [[ 1. -1. -1. ... -1.  1.  1.]]\nPrediction: [[1.]]\n\nTraining Step 8/12\n",
      "Malicious Features: [[ 0.  0. -1. ...  0.  1.  1.]]\nAdversarial Features: [[1. 1. 1. ... 1. 1. 1.]]\nPrediction: [[1.]]\n\nTraining Step 9/12\n",
      "Malicious Features: [[0.0000000e+00 0.0000000e+00 0.0000000e+00 ... 6.5983954e-06\n  6.5983950e-05 1.1877112e-04]]\nAdversarial Features: [[-1. -1. -1. ...  1. -1. -1.]]\nPrediction: [[1.]]\n\nTraining Step 10/12\n",
      "Malicious Features: [[0.00706519 0.00870422 0.00532506 ... 0.00291699 0.00329805 0.00755064]]\nAdversarial Features: [[ 1. -1. -1. ...  1.  1. -1.]]\nPrediction: [[1.]]\n\nTraining Step 11/12\n",
      "Malicious Features: [[2.0171495e-03 4.8978206e-02 2.3998035e-02 ... 5.3248000e+05\n  0.0000000e+00 2.0000000e+00]]\nAdversarial Features: [[ 1.  1. -1. ...  1.  1. -1.]]\nPrediction: [[1.]]\n\nTraining Step 12/12\n",
      "Malicious Features: [[0.000000e+00 0.000000e+00 0.000000e+00 ... 8.130176e-07 1.711616e-07\n  3.209280e-07]]\nAdversarial Features: [[ 1.  1.  1. ...  1. -1.  1.]]\nPrediction: [[1.]]\n\nTime for Epoch 23 is 6.532390832901001 seconds\nEpoch 24/25\nTraining Step 1/12\n",
      "Malicious Features: [[0. 0. 0. ... 0. 0. 0.]]\nAdversarial Features: [[ 1. -1.  1. ...  1. -1. -1.]]\nPrediction: [[1.]]\n\nTraining Step 2/12\n",
      "Malicious Features: [[0. 0. 0. ... 0. 4. 0.]]\nAdversarial Features: [[ 1.  1.  1. ... -1.  1. -1.]]\nPrediction: [[1.]]\n\nTraining Step 3/12\n",
      "Malicious Features: [[0. 0. 0. ... 0. 0. 0.]]\nAdversarial Features: [[ 1. -1. -1. ...  1. -1. -1.]]\nPrediction: [[1.]]\n\nTraining Step 4/12\n",
      "Malicious Features: [[0. 0. 0. ... 0. 0. 0.]]\nAdversarial Features: [[ 1. -1. -1. ... -1.  1.  1.]]\nPrediction: [[1.]]\n\nTraining Step 5/12\n",
      "Malicious Features: [[0. 0. 0. ... 0. 0. 0.]]\nAdversarial Features: [[-1. -1.  1. ... -1. -1. -1.]]\nPrediction: [[1.]]\n\nTraining Step 6/12\n",
      "Malicious Features: [[0. 0. 1. ... 0. 0. 0.]]\nAdversarial Features: [[ 1.  1. -1. ... -1. -1.  1.]]\nPrediction: [[1.]]\n\nTraining Step 7/12\n",
      "Malicious Features: [[0. 0. 0. ... 0. 0. 0.]]\nAdversarial Features: [[ 1.  1.  1. ...  1.  1. -1.]]\nPrediction: [[1.]]\n\nTraining Step 8/12\n",
      "Malicious Features: [[0. 0. 0. ... 0. 0. 0.]]\nAdversarial Features: [[-1. -1. -1. ... -1. -1. -1.]]\nPrediction: [[1.]]\n\nTraining Step 9/12\n",
      "Malicious Features: [[0. 0. 0. ... 1. 0. 0.]]\nAdversarial Features: [[-1.  1.  1. ...  1. -1.  1.]]\nPrediction: [[1.]]\n\nTraining Step 10/12\n",
      "Malicious Features: [[0. 0. 0. ... 0. 0. 0.]]\nAdversarial Features: [[ 1.  1. -1. ... -1.  1.  1.]]\nPrediction: [[1.]]\n\nTraining Step 11/12\n",
      "Malicious Features: [[3.2176689e-05 6.4353376e-06 9.6530066e-06 ... 0.0000000e+00\n  0.0000000e+00 0.0000000e+00]]\nAdversarial Features: [[ 1.  1. -1. ...  1. -1. -1.]]\nPrediction: [[1.]]\n\nTraining Step 12/12\n",
      "Malicious Features: [[0. 0. 0. ... 0. 0. 0.]]\nAdversarial Features: [[ 1.  1.  1. ...  1. -1.  1.]]\nPrediction: [[1.]]\n\nTime for Epoch 24 is 6.469013214111328 seconds\nEpoch 25/25\nTraining Step 1/12\n",
      "Malicious Features: [[0.00332969 0.00224174 0.00524147 ... 0.00398422 0.00392386 0.00400276]]\nAdversarial Features: [[ 1.  1. -1. ...  1.  1.  1.]]\nPrediction: [[1.]]\n\nTraining Step 2/12\n",
      "Malicious Features: [[0. 0. 0. ... 0. 0. 0.]]\nAdversarial Features: [[ 1. -1. -1. ...  1.  1.  1.]]\nPrediction: [[1.]]\n\nTraining Step 3/12\n",
      "Malicious Features: [[0.00494364 0.0034993  0.00451307 ... 0.00775701 0.00337358 0.00199751]]\nAdversarial Features: [[ 1. -1. -1. ...  1. -1. -1.]]\nPrediction: [[1.]]\n\nTraining Step 4/12\n",
      "Malicious Features: [[0.00075879 0.00085364 0.00109753 ... 0.0027438  0.00290435 0.00316705]]\nAdversarial Features: [[-1.  1. -1. ... -1. -1.  1.]]\nPrediction: [[1.]]\n\nTraining Step 5/12\n",
      "Malicious Features: [[ 0.  0.  0. ...  0.  0. -1.]]\nAdversarial Features: [[ 1.  1. -1. ... -1. -1. -1.]]\nPrediction: [[1.]]\n\nTraining Step 6/12\n",
      "Malicious Features: [[0.00551817 0.00042357 0.0011001  ... 0.00816535 0.0164814  0.01670849]]\nAdversarial Features: [[ 1. -1. -1. ...  1. -1.  1.]]\nPrediction: [[1.]]\n\nTraining Step 7/12\n",
      "Malicious Features: [[0. 0. 0. ... 0. 0. 0.]]\nAdversarial Features: [[ 1. -1. -1. ... -1.  1. -1.]]\nPrediction: [[1.]]\n\nTraining Step 8/12\n",
      "Malicious Features: [[0.00310551 0.00390131 0.00323412 ... 0.00403876 0.00372728 0.00358352]]\nAdversarial Features: [[ 1.  1.  1. ...  1.  1. -1.]]\nPrediction: [[1.]]\n\nTraining Step 9/12\n",
      "Malicious Features: [[0. 0. 0. ... 0. 0. 0.]]\nAdversarial Features: [[ 1. -1. -1. ...  1. -1.  1.]]\nPrediction: [[1.]]\n\nTraining Step 10/12\n",
      "Malicious Features: [[0. 0. 0. ... 0. 0. 0.]]\nAdversarial Features: [[ 1. -1.  1. ... -1. -1.  1.]]\nPrediction: [[1.]]\n\nTraining Step 11/12\n",
      "Malicious Features: [[0. 0. 0. ... 0. 1. 0.]]\nAdversarial Features: [[ 1.  1. -1. ...  1. -1. -1.]]\nPrediction: [[1.]]\n\nTraining Step 12/12\n",
      "Malicious Features: [[0.00383215 0.00385602 0.0038463  ... 0.00024934 0.00058178 0.00020778]]\nAdversarial Features: [[ 1. -1.  1. ...  1. -1. -1.]]\nPrediction: [[1.]]\n\nTime for Epoch 25 is 6.186927318572998 seconds\n                                   Original Features  \\\n0  [[0.0, 0.0, 0.0, 0.0, 0.0, 0.0, 0.0, 0.0, 0.0,...   \n1  [[0.0, 0.0, 1.0, 1.0, 0.0, 0.0, 0.0, 0.0, 0.0,...   \n2  [[8.5986634e-05, 0.00013512185, 0.00010748329,...   \n3  [[0.0, 0.0, 0.0, 0.0, 0.0, 0.0, 0.0, 0.0, 0.0,...   \n4  [[0.0, 0.0, 0.0, 0.0, 0.0, 0.0, 0.0, 0.0, 0.0,...   \n\n                                Adversarial Features Predicted Label  \n0  [[1.0, 1.0, -1.0, 1.0, -1.0, 1.0, -1.0, 1.0, -...         [[1.0]]  \n1  [[1.0, -1.0, -1.0, -1.0, 1.0, 1.0, -1.0, -1.0,...         [[1.0]]  \n2  [[1.0, 1.0, 1.0, -1.0, 1.0, -1.0, -1.0, -1.0, ...         [[1.0]]  \n3  [[1.0, 1.0, 1.0, -1.0, 1.0, -1.0, -1.0, 1.0, -...         [[1.0]]  \n4  [[1.0, 1.0, -1.0, 1.0, 1.0, 1.0, -1.0, -1.0, 1...         [[1.0]]  \n"
     ],
     "output_type": "stream"
    }
   ],
   "source": [
    "# Train the models\n",
    "generator, discriminator = train(EPOCH, BATCH_SIZE_FLOOR)"
   ],
   "metadata": {
    "collapsed": false,
    "pycharm": {
     "name": "#%%\n",
     "is_executing": false
    }
   }
  },
  {
   "cell_type": "code",
   "execution_count": 8,
   "outputs": [
    {
     "name": "stdout",
     "text": [
      "[0. 0. 0. ... 0. 0. 0.]\n[0. 0. 0. ... 0. 0. 0.]\n"
     ],
     "output_type": "stream"
    }
   ],
   "source": [
    "# Load individual examples of both malicious files and benign \n",
    "mal_example = single_malicious_example(malicious_examples(dataframe))\n",
    "ben_example = single_benign_example(benign_examples(dataframe))\n",
    "malicious = tf.expand_dims(mal_example, 0)\n",
    "benign = tf.expand_dims(ben_example, 0)\n",
    "\n",
    "# Convert these examples from Tensor to array in order to view the data contained\n",
    "malicious_data = mal_example.numpy()\n",
    "benign_data = ben_example.numpy()\n",
    "\n",
    "print(malicious_data)\n",
    "print(benign_data)"
   ],
   "metadata": {
    "collapsed": false,
    "pycharm": {
     "name": "#%%\n",
     "is_executing": false
    }
   }
  },
  {
   "cell_type": "code",
   "execution_count": 9,
   "outputs": [
    {
     "name": "stdout",
     "text": [
      "[[1.]]\n[[0.]]\n"
     ],
     "output_type": "stream"
    }
   ],
   "source": [
    "# Pass the malicious and benign examples into the discriminator to get predictions on file type\n",
    "mal_prediction = discriminator.predict_on_batch([malicious])\n",
    "ben_prediction = discriminator.predict_on_batch([benign])\n",
    "\n",
    "print(\"Prediction on Malicious Vectorized Features: {}\".format(mal_prediction))\n",
    "print(\"Prediction on Benign Vectorized Features: {}\".format(ben_prediction))"
   ],
   "metadata": {
    "collapsed": false,
    "pycharm": {
     "name": "#%% \n",
     "is_executing": false
    }
   }
  },
  {
   "cell_type": "code",
   "execution_count": 11,
   "outputs": [
    {
     "name": "stdout",
     "text": [
      "[[-1.  1. -1. ...  1.  1. -1.]]\n"
     ],
     "output_type": "stream"
    }
   ],
   "source": [
    "# Create a tensor of random noise to pass into the generator \n",
    "noise = tf.random.uniform([1, 2381])\n",
    "\n",
    "# Pass the malicious file through the generator and test the output against the discriminator\n",
    "adversarial_example = generator.predict_on_batch([malicious, noise])\n",
    "print(adversarial_example)"
   ],
   "metadata": {
    "collapsed": false,
    "pycharm": {
     "name": "#%%\n",
     "is_executing": false
    }
   }
  },
  {
   "cell_type": "code",
   "execution_count": 12,
   "outputs": [
    {
     "name": "stdout",
     "text": [
      "[[1.]]\n"
     ],
     "output_type": "stream"
    }
   ],
   "source": [
    "# Use the discriminator to make prediction on the output adversarial example\n",
    "adversarial_prediction = discriminator.predict_on_batch([adversarial_example])\n",
    "print(adversarial_prediction)"
   ],
   "metadata": {
    "collapsed": false,
    "pycharm": {
     "name": "#%%\n",
     "is_executing": false
    }
   }
  }
 ],
 "metadata": {
  "pycharm": {
   "stem_cell": {
    "cell_type": "raw",
    "source": [],
    "metadata": {
     "collapsed": false
    }
   }
  },
  "kernelspec": {
   "name": "python3",
   "language": "python",
   "display_name": "Python 3"
  }
 },
 "nbformat": 4,
 "nbformat_minor": 2
}