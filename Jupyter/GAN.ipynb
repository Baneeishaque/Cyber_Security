{
 "cells": [
  {
   "cell_type": "code",
   "execution_count": 1,
   "outputs": [],
   "source": [
    "# Import necessary packages\n",
    "import os\n",
    "import tensorflow as tf\n",
    "\n",
    "# Import necessary files/functions\n",
    "from VisualizingData.VisualizeData import init_metadata, read_metadata, visualize_metadata\n",
    "from LoadingData.LoadData import load_to_dataframe, malicious_examples, benign_examples, single_malicious_example, single_benign_example\n",
    "from Training.TrainGAN import train, display_training_predictions, plot_loss_functions\n",
    "from Models.Discriminator import visualize_mal_prediction, visualize_ben_prediction"
   ],
   "metadata": {
    "collapsed": false,
    "pycharm": {
     "name": "#%%\n",
     "is_executing": false
    }
   }
  },
  {
   "cell_type": "code",
   "execution_count": 2,
   "outputs": [],
   "source": [
    "# Declaring a variable for the path to the Ember dataset\n",
    "dataset_dir = \"E:/QMIND/DataSet/ember\""
   ],
   "metadata": {
    "collapsed": false,
    "pycharm": {
     "name": "#%%\n",
     "is_executing": false
    }
   }
  },
  {
   "cell_type": "code",
   "execution_count": 3,
   "outputs": [
    {
     "name": "stdout",
     "text": [
      "Metadata has been read\n                                                    sha256 appeared subset  \\\n0        0abb4fda7d5b13801d63bee53e5e256be43e141faa077a...  2006-12  train   \n1        d4206650743b3d519106dea10a38a55c30467c3d9f7875...  2006-12  train   \n2        c9cafff8a596ba8a80bafb4ba8ae6f2ef3329d95b85f15...  2007-01  train   \n3        7f513818bcc276c531af2e641c597744da807e21cc1160...  2007-02  train   \n4        ca65e1c387a4cc9e7d8a8ce12bf1bcf9f534c9032b9d95...  2007-02  train   \n...                                                    ...      ...    ...   \n1099995  fffe314f23cee3a68ccab272934877d3bc18ec3bd905df...  2017-12   test   \n1099996  fffe7a1b23e04facc9ca91a93ac4a34e8b3040e023dbde...  2017-12   test   \n1099997  fffe801f51e7ec931515aa49a3d157a9c0fbcdca8c9d80...  2017-12   test   \n1099998  fffe92f9593649c4a7050302368189de45e2c1c06b04ea...  2017-12   test   \n1099999  ffffb259a4c5e25ae1437af59caafb718cf8879187cc8c...  2017-12   test   \n\n         label  \n0            0  \n1            0  \n2            0  \n3            0  \n4            0  \n...        ...  \n1099995      0  \n1099996      1  \n1099997      0  \n1099998      1  \n1099999      1  \n\n[1100000 rows x 4 columns]\n"
     ],
     "output_type": "stream"
    }
   ],
   "source": [
    "# Check that metadata.csv is in the desired directory and initialize it if not\n",
    "dataset_dir_files = os.listdir(dataset_dir)\n",
    "if 'metadata.csv' not in dataset_dir_files:\n",
    "    init_metadata(dataset_dir)\n",
    "# read the data from metadata.csv file and display the contents \n",
    "metadata = read_metadata(dataset_dir)\n",
    "print(metadata)"
   ],
   "metadata": {
    "collapsed": false,
    "pycharm": {
     "name": "#%%\n",
     "is_executing": false
    }
   }
  },
  {
   "cell_type": "code",
   "execution_count": 4,
   "outputs": [
    {
     "name": "stdout",
     "text": [
      "Metadata\n",
      "Number of Malicious Files in Train Subset: 300000\nNumber of Benign Files in Train Subset: 300000\nNumber of Unlabeled Files in Train Subset: 300000\n\n",
      "Number of Malicious Files in Test Subset: 100000\nNumber of Benign Files in Test Subset: 100000\nNumber of Unlabeled Files in Test Subset: 0\n\nMalicious File Ratio: 0.2727272727272727\nBenign File Ratio: 0.2727272727272727\nUnlabeled File Ratio: 0.2727272727272727\n\nMalicious File Ratio: 0.09090909090909091\nBenign File Ratio: 0.09090909090909091\nUnlabeled File Ratio: 0.0\n\n"
     ],
     "output_type": "stream"
    },
    {
     "data": {
      "text/plain": "<Figure size 432x288 with 1 Axes>",
      "image/png": "[encoded data removed]"
     },
     "metadata": {
      "needs_background": "light"
     },
     "output_type": "display_data"
    }
   ],
   "source": [
    "# Output a histogram depicting the number of files of each label in loaded data\n",
    "visualize_metadata(metadata)"
   ],
   "metadata": {
    "collapsed": false,
    "pycharm": {
     "name": "#%%\n",
     "is_executing": false
    }
   }
  },
  {
   "cell_type": "code",
   "execution_count": null,
   "outputs": [
    {
     "name": "stdout",
     "text": [
      "Vectorized training features have been read\nVectorized test features has been read\nConverting X_train from np.memmap to tf.tensor\nShape of X_train tensor is (900000, 2381)\nX_train conversion complete\nConverting X_test from np.memmap to tf.tensor\nShape of X_test tensor is (200000, 2381)\nX_test conversion complete\nLoading tf.tensor data into pd.DataFrame\n",
      "Training data has been loaded into pd.DataFrame\n"
     ],
     "output_type": "stream"
    }
   ],
   "source": [
    "# Loading the dataset into a dataframe for convenience\n",
    "dataframe = load_to_dataframe(dataset_dir)"
   ],
   "metadata": {
    "collapsed": false,
    "pycharm": {
     "name": "#%%\n",
     "is_executing": true
    }
   }
  },
  {
   "cell_type": "code",
   "execution_count": null,
   "outputs": [],
   "source": [
    "# Declaring hyperparameters for Epoch and the floor value for Batch Size\n",
    "EPOCH = 20\n",
    "BATCH_SIZE_FLOOR = 391\n",
    "NUM_LOAD_FILES = 5000"
   ],
   "metadata": {
    "collapsed": false,
    "pycharm": {
     "name": "#%% \n",
     "is_executing": true
    }
   }
  },
  {
   "cell_type": "code",
   "execution_count": null,
   "outputs": [],
   "source": [
    "# Train the models\n",
    "generator, discriminator, training_predictions, loss_value_lists = train(EPOCH, BATCH_SIZE_FLOOR, NUM_LOAD_FILES)"
   ],
   "metadata": {
    "collapsed": false,
    "pycharm": {
     "name": "#%%\n",
     "is_executing": true
    }
   }
  },
  {
   "cell_type": "code",
   "execution_count": null,
   "outputs": [],
   "source": [
    "# Define the number of malicious and benign predictions made during training\n",
    "predicted_benign = training_predictions[0]\n",
    "predicted_malicious = training_predictions[1]\n",
    "\n",
    "# Display the number of files predicted as malicious or benign during training in a pie chart\n",
    "display_training_predictions(predicted_benign, predicted_malicious)"
   ],
   "metadata": {
    "collapsed": false,
    "pycharm": {
     "name": "#%%\n",
     "is_executing": true
    }
   }
  },
  {
   "cell_type": "code",
   "execution_count": null,
   "outputs": [],
   "source": [
    "# Define the lists of generator loss values and discriminator loss values from tuple output during training\n",
    "generator_loss_list = loss_value_lists[0]\n",
    "discriminator_loss_list = loss_value_lists[1]\n",
    "\n",
    "# Display the lists of lost values for each model taken at each epoch\n",
    "print(\"Generator Loss Values: {}\".format(generator_loss_list))\n",
    "print(\"Discriminator Loss Values: {}\".format(discriminator_loss_list))\n",
    "\n",
    "# Plot the loss values for both models\n",
    "plot_loss_functions(generator_loss_list, discriminator_loss_list, EPOCH)"
   ],
   "metadata": {
    "collapsed": false,
    "pycharm": {
     "name": "#%% \n",
     "is_executing": true
    }
   }
  },
  {
   "cell_type": "code",
   "execution_count": null,
   "outputs": [],
   "source": [
    "# Load individual examples of both malicious files and benign \n",
    "mal_example = single_malicious_example(malicious_examples(dataframe))\n",
    "ben_example = single_benign_example(benign_examples(dataframe))\n",
    "malicious = tf.expand_dims(mal_example, 0)\n",
    "benign = tf.expand_dims(ben_example, 0)\n",
    "\n",
    "# Convert these examples from Tensor to array in order to view the data contained\n",
    "malicious_data = mal_example.numpy()\n",
    "benign_data = ben_example.numpy()\n",
    "\n",
    "print(malicious_data)\n",
    "print(benign_data)"
   ],
   "metadata": {
    "collapsed": false,
    "pycharm": {
     "name": "#%%\n",
     "is_executing": true
    }
   }
  },
  {
   "cell_type": "code",
   "execution_count": null,
   "outputs": [],
   "source": [
    "# Pass the malicious and benign examples into the discriminator to get predictions on file type\n",
    "mal_prediction = discriminator.predict_on_batch([malicious])\n",
    "ben_prediction = discriminator.predict_on_batch([benign])"
   ],
   "metadata": {
    "collapsed": false,
    "pycharm": {
     "name": "#%% \n",
     "is_executing": true
    }
   }
  },
  {
   "cell_type": "code",
   "execution_count": null,
   "outputs": [],
   "source": [
    "# Print the features of the malicious and benign files being used at this step\n",
    "if mal_prediction.numpy() < [[0.5]]:\n",
    "    label = [[0.]]\n",
    "    visualize_ben_prediction()\n",
    "elif mal_prediction.numpy() >= [[0.5]]:\n",
    "    label = [[1.]]\n",
    "    visualize_mal_prediction()\n",
    "\n",
    "print(\"Prediction on Malicious Vectorized Features: {}\".format(label))"
   ],
   "metadata": {
    "collapsed": false,
    "pycharm": {
     "name": "#%%\n",
     "is_executing": true
    }
   }
  },
  {
   "cell_type": "code",
   "execution_count": null,
   "outputs": [],
   "source": [
    "# Print the features of the malicious and benign files being used at this step\n",
    "if ben_prediction.numpy() < [[0.5]]:\n",
    "    label = [[0.]]\n",
    "    visualize_ben_prediction()\n",
    "elif ben_prediction.numpy() >= [[0.5]]:\n",
    "    label = [[1.]]\n",
    "    visualize_mal_prediction()\n",
    "    \n",
    "print(\"Prediction on Benign Vectorized Features: {}\".format(label))"
   ],
   "metadata": {
    "collapsed": false,
    "pycharm": {
     "name": "#%%\n",
     "is_executing": true
    }
   }
  },
  {
   "cell_type": "code",
   "execution_count": null,
   "outputs": [],
   "source": [
    "# Create a tensor of random noise to pass into the generator \n",
    "noise = tf.random.uniform([1, 2381])\n",
    "\n",
    "# Pass the malicious file through the generator and test the output against the discriminator\n",
    "adversarial_example = generator.predict_on_batch([malicious, noise])\n",
    "print(adversarial_example.numpy())"
   ],
   "metadata": {
    "collapsed": false,
    "pycharm": {
     "name": "#%%\n",
     "is_executing": true
    }
   }
  },
  {
   "cell_type": "code",
   "execution_count": null,
   "outputs": [],
   "source": [
    "# Use the discriminator to make prediction on the output adversarial example\n",
    "adversarial_prediction = discriminator.predict_on_batch([adversarial_example])\n",
    "if adversarial_prediction.numpy() < [[0.5]]:\n",
    "    label = [[0.]]\n",
    "    visualize_ben_prediction()\n",
    "elif adversarial_prediction.numpy() >= [[0.5]]:\n",
    "    label = [[1.]]\n",
    "    visualize_mal_prediction()\n",
    "print(\"Prediction: {}\".format(label))"
   ],
   "metadata": {
    "collapsed": false,
    "pycharm": {
     "name": "#%%\n",
     "is_executing": true
    }
   }
  }
 ],
 "metadata": {
  "pycharm": {
   "stem_cell": {
    "cell_type": "raw",
    "source": [],
    "metadata": {
     "collapsed": false
    }
   }
  },
  "kernelspec": {
   "name": "python3",
   "language": "python",
   "display_name": "Python 3"
  }
 },
 "nbformat": 4,
 "nbformat_minor": 2
}